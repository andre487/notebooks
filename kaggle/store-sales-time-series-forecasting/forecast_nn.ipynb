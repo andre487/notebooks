{
 "cells": [
  {
   "cell_type": "code",
   "execution_count": 53,
   "metadata": {
    "collapsed": true
   },
   "outputs": [],
   "source": [
    "import matplotlib.pyplot as plt\n",
    "import numpy as np\n",
    "import pandas as pd\n",
    "import tensorflow as tf\n",
    "from tensorflow import keras\n",
    "from tensorflow.keras import layers\n",
    "from sklearn.metrics import mean_squared_log_error"
   ]
  },
  {
   "cell_type": "code",
   "execution_count": 2,
   "outputs": [],
   "source": [
    "train = pd.read_csv('data/train_merged.csv', parse_dates=['date'], low_memory=False)\n",
    "test = pd.read_csv('data/test_merged.csv', parse_dates=['date'], low_memory=False)"
   ],
   "metadata": {
    "collapsed": false,
    "pycharm": {
     "name": "#%%\n"
    }
   }
  },
  {
   "cell_type": "code",
   "execution_count": 3,
   "outputs": [],
   "source": [
    "train.earthquake.fillna('', inplace=True)\n",
    "train.event_name.fillna('', inplace=True)\n",
    "train.national_holiday.fillna('', inplace=True)\n",
    "train.regional_holiday.fillna('', inplace=True)\n",
    "train.local_holiday.fillna('', inplace=True)\n",
    "train.work_day_name.fillna('', inplace=True)\n",
    "\n",
    "test.earthquake.fillna('', inplace=True)\n",
    "test.event_name.fillna('', inplace=True)\n",
    "test.national_holiday.fillna('', inplace=True)\n",
    "test.regional_holiday.fillna('', inplace=True)\n",
    "test.local_holiday.fillna('', inplace=True)\n",
    "test.work_day_name.fillna('', inplace=True)"
   ],
   "metadata": {
    "collapsed": false,
    "pycharm": {
     "name": "#%%\n"
    }
   }
  },
  {
   "cell_type": "code",
   "execution_count": 4,
   "outputs": [],
   "source": [
    "train.drop('transactions', axis=1, inplace=True)\n",
    "test.drop('transactions', axis=1, inplace=True)"
   ],
   "metadata": {
    "collapsed": false,
    "pycharm": {
     "name": "#%%\n"
    }
   }
  },
  {
   "cell_type": "code",
   "execution_count": 5,
   "outputs": [
    {
     "data": {
      "text/plain": "   id       date  store_nbr      family  sales  onpromotion   city      state  \\\n0   0 2013-01-01          1  AUTOMOTIVE    0.0            0  Quito  Pichincha   \n1   1 2013-01-01          1   BABY CARE    0.0            0  Quito  Pichincha   \n2   2 2013-01-01          1      BEAUTY    0.0            0  Quito  Pichincha   \n3   3 2013-01-01          1   BEVERAGES    0.0            0  Quito  Pichincha   \n4   4 2013-01-01          1       BOOKS    0.0            0  Quito  Pichincha   \n\n  type  cluster  ...  earthquake event_name    national_holiday  \\\n0    D       13  ...                         Primer dia del ano   \n1    D       13  ...                         Primer dia del ano   \n2    D       13  ...                         Primer dia del ano   \n3    D       13  ...                         Primer dia del ano   \n4    D       13  ...                         Primer dia del ano   \n\n  regional_holiday local_holiday  year month  day  day_of_week  payday  \n0                                 2013     1    1            1   False  \n1                                 2013     1    1            1   False  \n2                                 2013     1    1            1   False  \n3                                 2013     1    1            1   False  \n4                                 2013     1    1            1   False  \n\n[5 rows x 22 columns]",
      "text/html": "<div>\n<style scoped>\n    .dataframe tbody tr th:only-of-type {\n        vertical-align: middle;\n    }\n\n    .dataframe tbody tr th {\n        vertical-align: top;\n    }\n\n    .dataframe thead th {\n        text-align: right;\n    }\n</style>\n<table border=\"1\" class=\"dataframe\">\n  <thead>\n    <tr style=\"text-align: right;\">\n      <th></th>\n      <th>id</th>\n      <th>date</th>\n      <th>store_nbr</th>\n      <th>family</th>\n      <th>sales</th>\n      <th>onpromotion</th>\n      <th>city</th>\n      <th>state</th>\n      <th>type</th>\n      <th>cluster</th>\n      <th>...</th>\n      <th>earthquake</th>\n      <th>event_name</th>\n      <th>national_holiday</th>\n      <th>regional_holiday</th>\n      <th>local_holiday</th>\n      <th>year</th>\n      <th>month</th>\n      <th>day</th>\n      <th>day_of_week</th>\n      <th>payday</th>\n    </tr>\n  </thead>\n  <tbody>\n    <tr>\n      <th>0</th>\n      <td>0</td>\n      <td>2013-01-01</td>\n      <td>1</td>\n      <td>AUTOMOTIVE</td>\n      <td>0.0</td>\n      <td>0</td>\n      <td>Quito</td>\n      <td>Pichincha</td>\n      <td>D</td>\n      <td>13</td>\n      <td>...</td>\n      <td></td>\n      <td></td>\n      <td>Primer dia del ano</td>\n      <td></td>\n      <td></td>\n      <td>2013</td>\n      <td>1</td>\n      <td>1</td>\n      <td>1</td>\n      <td>False</td>\n    </tr>\n    <tr>\n      <th>1</th>\n      <td>1</td>\n      <td>2013-01-01</td>\n      <td>1</td>\n      <td>BABY CARE</td>\n      <td>0.0</td>\n      <td>0</td>\n      <td>Quito</td>\n      <td>Pichincha</td>\n      <td>D</td>\n      <td>13</td>\n      <td>...</td>\n      <td></td>\n      <td></td>\n      <td>Primer dia del ano</td>\n      <td></td>\n      <td></td>\n      <td>2013</td>\n      <td>1</td>\n      <td>1</td>\n      <td>1</td>\n      <td>False</td>\n    </tr>\n    <tr>\n      <th>2</th>\n      <td>2</td>\n      <td>2013-01-01</td>\n      <td>1</td>\n      <td>BEAUTY</td>\n      <td>0.0</td>\n      <td>0</td>\n      <td>Quito</td>\n      <td>Pichincha</td>\n      <td>D</td>\n      <td>13</td>\n      <td>...</td>\n      <td></td>\n      <td></td>\n      <td>Primer dia del ano</td>\n      <td></td>\n      <td></td>\n      <td>2013</td>\n      <td>1</td>\n      <td>1</td>\n      <td>1</td>\n      <td>False</td>\n    </tr>\n    <tr>\n      <th>3</th>\n      <td>3</td>\n      <td>2013-01-01</td>\n      <td>1</td>\n      <td>BEVERAGES</td>\n      <td>0.0</td>\n      <td>0</td>\n      <td>Quito</td>\n      <td>Pichincha</td>\n      <td>D</td>\n      <td>13</td>\n      <td>...</td>\n      <td></td>\n      <td></td>\n      <td>Primer dia del ano</td>\n      <td></td>\n      <td></td>\n      <td>2013</td>\n      <td>1</td>\n      <td>1</td>\n      <td>1</td>\n      <td>False</td>\n    </tr>\n    <tr>\n      <th>4</th>\n      <td>4</td>\n      <td>2013-01-01</td>\n      <td>1</td>\n      <td>BOOKS</td>\n      <td>0.0</td>\n      <td>0</td>\n      <td>Quito</td>\n      <td>Pichincha</td>\n      <td>D</td>\n      <td>13</td>\n      <td>...</td>\n      <td></td>\n      <td></td>\n      <td>Primer dia del ano</td>\n      <td></td>\n      <td></td>\n      <td>2013</td>\n      <td>1</td>\n      <td>1</td>\n      <td>1</td>\n      <td>False</td>\n    </tr>\n  </tbody>\n</table>\n<p>5 rows × 22 columns</p>\n</div>"
     },
     "execution_count": 5,
     "metadata": {},
     "output_type": "execute_result"
    }
   ],
   "source": [
    "train.head()"
   ],
   "metadata": {
    "collapsed": false,
    "pycharm": {
     "name": "#%%\n"
    }
   }
  },
  {
   "cell_type": "code",
   "execution_count": 6,
   "outputs": [
    {
     "data": {
      "text/plain": "        id       date  store_nbr      family  onpromotion   city      state  \\\n0  3000888 2017-08-16          1  AUTOMOTIVE            0  Quito  Pichincha   \n1  3000889 2017-08-16          1   BABY CARE            0  Quito  Pichincha   \n2  3000890 2017-08-16          1      BEAUTY            2  Quito  Pichincha   \n3  3000891 2017-08-16          1   BEVERAGES           20  Quito  Pichincha   \n4  3000892 2017-08-16          1       BOOKS            0  Quito  Pichincha   \n\n  type  cluster  oil_price  ... earthquake event_name national_holiday  \\\n0    D       13       46.8  ...                                          \n1    D       13       46.8  ...                                          \n2    D       13       46.8  ...                                          \n3    D       13       46.8  ...                                          \n4    D       13       46.8  ...                                          \n\n  regional_holiday local_holiday  year  month  day  day_of_week  payday  \n0                                 2017      8   16            2   False  \n1                                 2017      8   16            2   False  \n2                                 2017      8   16            2   False  \n3                                 2017      8   16            2   False  \n4                                 2017      8   16            2   False  \n\n[5 rows x 21 columns]",
      "text/html": "<div>\n<style scoped>\n    .dataframe tbody tr th:only-of-type {\n        vertical-align: middle;\n    }\n\n    .dataframe tbody tr th {\n        vertical-align: top;\n    }\n\n    .dataframe thead th {\n        text-align: right;\n    }\n</style>\n<table border=\"1\" class=\"dataframe\">\n  <thead>\n    <tr style=\"text-align: right;\">\n      <th></th>\n      <th>id</th>\n      <th>date</th>\n      <th>store_nbr</th>\n      <th>family</th>\n      <th>onpromotion</th>\n      <th>city</th>\n      <th>state</th>\n      <th>type</th>\n      <th>cluster</th>\n      <th>oil_price</th>\n      <th>...</th>\n      <th>earthquake</th>\n      <th>event_name</th>\n      <th>national_holiday</th>\n      <th>regional_holiday</th>\n      <th>local_holiday</th>\n      <th>year</th>\n      <th>month</th>\n      <th>day</th>\n      <th>day_of_week</th>\n      <th>payday</th>\n    </tr>\n  </thead>\n  <tbody>\n    <tr>\n      <th>0</th>\n      <td>3000888</td>\n      <td>2017-08-16</td>\n      <td>1</td>\n      <td>AUTOMOTIVE</td>\n      <td>0</td>\n      <td>Quito</td>\n      <td>Pichincha</td>\n      <td>D</td>\n      <td>13</td>\n      <td>46.8</td>\n      <td>...</td>\n      <td></td>\n      <td></td>\n      <td></td>\n      <td></td>\n      <td></td>\n      <td>2017</td>\n      <td>8</td>\n      <td>16</td>\n      <td>2</td>\n      <td>False</td>\n    </tr>\n    <tr>\n      <th>1</th>\n      <td>3000889</td>\n      <td>2017-08-16</td>\n      <td>1</td>\n      <td>BABY CARE</td>\n      <td>0</td>\n      <td>Quito</td>\n      <td>Pichincha</td>\n      <td>D</td>\n      <td>13</td>\n      <td>46.8</td>\n      <td>...</td>\n      <td></td>\n      <td></td>\n      <td></td>\n      <td></td>\n      <td></td>\n      <td>2017</td>\n      <td>8</td>\n      <td>16</td>\n      <td>2</td>\n      <td>False</td>\n    </tr>\n    <tr>\n      <th>2</th>\n      <td>3000890</td>\n      <td>2017-08-16</td>\n      <td>1</td>\n      <td>BEAUTY</td>\n      <td>2</td>\n      <td>Quito</td>\n      <td>Pichincha</td>\n      <td>D</td>\n      <td>13</td>\n      <td>46.8</td>\n      <td>...</td>\n      <td></td>\n      <td></td>\n      <td></td>\n      <td></td>\n      <td></td>\n      <td>2017</td>\n      <td>8</td>\n      <td>16</td>\n      <td>2</td>\n      <td>False</td>\n    </tr>\n    <tr>\n      <th>3</th>\n      <td>3000891</td>\n      <td>2017-08-16</td>\n      <td>1</td>\n      <td>BEVERAGES</td>\n      <td>20</td>\n      <td>Quito</td>\n      <td>Pichincha</td>\n      <td>D</td>\n      <td>13</td>\n      <td>46.8</td>\n      <td>...</td>\n      <td></td>\n      <td></td>\n      <td></td>\n      <td></td>\n      <td></td>\n      <td>2017</td>\n      <td>8</td>\n      <td>16</td>\n      <td>2</td>\n      <td>False</td>\n    </tr>\n    <tr>\n      <th>4</th>\n      <td>3000892</td>\n      <td>2017-08-16</td>\n      <td>1</td>\n      <td>BOOKS</td>\n      <td>0</td>\n      <td>Quito</td>\n      <td>Pichincha</td>\n      <td>D</td>\n      <td>13</td>\n      <td>46.8</td>\n      <td>...</td>\n      <td></td>\n      <td></td>\n      <td></td>\n      <td></td>\n      <td></td>\n      <td>2017</td>\n      <td>8</td>\n      <td>16</td>\n      <td>2</td>\n      <td>False</td>\n    </tr>\n  </tbody>\n</table>\n<p>5 rows × 21 columns</p>\n</div>"
     },
     "execution_count": 6,
     "metadata": {},
     "output_type": "execute_result"
    }
   ],
   "source": [
    "test.head()"
   ],
   "metadata": {
    "collapsed": false,
    "pycharm": {
     "name": "#%%\n"
    }
   }
  },
  {
   "cell_type": "code",
   "execution_count": 7,
   "outputs": [],
   "source": [
    "full_data = pd.concat([train, test])"
   ],
   "metadata": {
    "collapsed": false,
    "pycharm": {
     "name": "#%%\n"
    }
   }
  },
  {
   "cell_type": "code",
   "execution_count": 8,
   "outputs": [],
   "source": [
    "cat_features = [\n",
    "    'family', 'store_nbr', 'city', 'state', 'cluster',\n",
    "    'earthquake', 'event_name', 'national_holiday', 'regional_holiday', 'local_holiday',\n",
    "    'payday', 'type', 'work_day_name',\n",
    "]\n",
    "full_data_encoded = pd.get_dummies(full_data, columns=cat_features)"
   ],
   "metadata": {
    "collapsed": false,
    "pycharm": {
     "name": "#%%\n"
    }
   }
  },
  {
   "cell_type": "code",
   "execution_count": 9,
   "outputs": [],
   "source": [
    "test_border_date = test.date.unique()[0]\n",
    "valid_border_date = train.date.unique()[-31]\n",
    "train_data = full_data_encoded[full_data_encoded.date < valid_border_date]\n",
    "valid_data = full_data_encoded[(full_data_encoded.date >= valid_border_date) & (full_data_encoded.date < test_border_date)]\n",
    "test_data = full_data_encoded[full_data_encoded.date >= test_border_date]"
   ],
   "metadata": {
    "collapsed": false,
    "pycharm": {
     "name": "#%%\n"
    }
   }
  },
  {
   "cell_type": "code",
   "execution_count": 10,
   "outputs": [
    {
     "data": {
      "text/plain": "   id       date  sales  onpromotion  oil_price  year  month  day  \\\n0   0 2013-01-01    0.0            0      93.14  2013      1    1   \n1   1 2013-01-01    0.0            0      93.14  2013      1    1   \n2   2 2013-01-01    0.0            0      93.14  2013      1    1   \n3   3 2013-01-01    0.0            0      93.14  2013      1    1   \n4   4 2013-01-01    0.0            0      93.14  2013      1    1   \n\n   day_of_week  family_AUTOMOTIVE  ...  type_B  type_C  type_D  type_E  \\\n0            1                  1  ...       0       0       1       0   \n1            1                  0  ...       0       0       1       0   \n2            1                  0  ...       0       0       1       0   \n3            1                  0  ...       0       0       1       0   \n4            1                  0  ...       0       0       1       0   \n\n   work_day_name_  work_day_name_Recupero Puente Dia de Difuntos  \\\n0               1                                              0   \n1               1                                              0   \n2               1                                              0   \n3               1                                              0   \n4               1                                              0   \n\n   work_day_name_Recupero Puente Navidad  \\\n0                                      0   \n1                                      0   \n2                                      0   \n3                                      0   \n4                                      0   \n\n   work_day_name_Recupero Puente Primer dia del ano  \\\n0                                                 0   \n1                                                 0   \n2                                                 0   \n3                                                 0   \n4                                                 0   \n\n   work_day_name_Recupero puente Navidad  \\\n0                                      0   \n1                                      0   \n2                                      0   \n3                                      0   \n4                                      0   \n\n   work_day_name_Recupero puente primer dia del ano  \n0                                                 0  \n1                                                 0  \n2                                                 0  \n3                                                 0  \n4                                                 0  \n\n[5 rows x 263 columns]",
      "text/html": "<div>\n<style scoped>\n    .dataframe tbody tr th:only-of-type {\n        vertical-align: middle;\n    }\n\n    .dataframe tbody tr th {\n        vertical-align: top;\n    }\n\n    .dataframe thead th {\n        text-align: right;\n    }\n</style>\n<table border=\"1\" class=\"dataframe\">\n  <thead>\n    <tr style=\"text-align: right;\">\n      <th></th>\n      <th>id</th>\n      <th>date</th>\n      <th>sales</th>\n      <th>onpromotion</th>\n      <th>oil_price</th>\n      <th>year</th>\n      <th>month</th>\n      <th>day</th>\n      <th>day_of_week</th>\n      <th>family_AUTOMOTIVE</th>\n      <th>...</th>\n      <th>type_B</th>\n      <th>type_C</th>\n      <th>type_D</th>\n      <th>type_E</th>\n      <th>work_day_name_</th>\n      <th>work_day_name_Recupero Puente Dia de Difuntos</th>\n      <th>work_day_name_Recupero Puente Navidad</th>\n      <th>work_day_name_Recupero Puente Primer dia del ano</th>\n      <th>work_day_name_Recupero puente Navidad</th>\n      <th>work_day_name_Recupero puente primer dia del ano</th>\n    </tr>\n  </thead>\n  <tbody>\n    <tr>\n      <th>0</th>\n      <td>0</td>\n      <td>2013-01-01</td>\n      <td>0.0</td>\n      <td>0</td>\n      <td>93.14</td>\n      <td>2013</td>\n      <td>1</td>\n      <td>1</td>\n      <td>1</td>\n      <td>1</td>\n      <td>...</td>\n      <td>0</td>\n      <td>0</td>\n      <td>1</td>\n      <td>0</td>\n      <td>1</td>\n      <td>0</td>\n      <td>0</td>\n      <td>0</td>\n      <td>0</td>\n      <td>0</td>\n    </tr>\n    <tr>\n      <th>1</th>\n      <td>1</td>\n      <td>2013-01-01</td>\n      <td>0.0</td>\n      <td>0</td>\n      <td>93.14</td>\n      <td>2013</td>\n      <td>1</td>\n      <td>1</td>\n      <td>1</td>\n      <td>0</td>\n      <td>...</td>\n      <td>0</td>\n      <td>0</td>\n      <td>1</td>\n      <td>0</td>\n      <td>1</td>\n      <td>0</td>\n      <td>0</td>\n      <td>0</td>\n      <td>0</td>\n      <td>0</td>\n    </tr>\n    <tr>\n      <th>2</th>\n      <td>2</td>\n      <td>2013-01-01</td>\n      <td>0.0</td>\n      <td>0</td>\n      <td>93.14</td>\n      <td>2013</td>\n      <td>1</td>\n      <td>1</td>\n      <td>1</td>\n      <td>0</td>\n      <td>...</td>\n      <td>0</td>\n      <td>0</td>\n      <td>1</td>\n      <td>0</td>\n      <td>1</td>\n      <td>0</td>\n      <td>0</td>\n      <td>0</td>\n      <td>0</td>\n      <td>0</td>\n    </tr>\n    <tr>\n      <th>3</th>\n      <td>3</td>\n      <td>2013-01-01</td>\n      <td>0.0</td>\n      <td>0</td>\n      <td>93.14</td>\n      <td>2013</td>\n      <td>1</td>\n      <td>1</td>\n      <td>1</td>\n      <td>0</td>\n      <td>...</td>\n      <td>0</td>\n      <td>0</td>\n      <td>1</td>\n      <td>0</td>\n      <td>1</td>\n      <td>0</td>\n      <td>0</td>\n      <td>0</td>\n      <td>0</td>\n      <td>0</td>\n    </tr>\n    <tr>\n      <th>4</th>\n      <td>4</td>\n      <td>2013-01-01</td>\n      <td>0.0</td>\n      <td>0</td>\n      <td>93.14</td>\n      <td>2013</td>\n      <td>1</td>\n      <td>1</td>\n      <td>1</td>\n      <td>0</td>\n      <td>...</td>\n      <td>0</td>\n      <td>0</td>\n      <td>1</td>\n      <td>0</td>\n      <td>1</td>\n      <td>0</td>\n      <td>0</td>\n      <td>0</td>\n      <td>0</td>\n      <td>0</td>\n    </tr>\n  </tbody>\n</table>\n<p>5 rows × 263 columns</p>\n</div>"
     },
     "execution_count": 10,
     "metadata": {},
     "output_type": "execute_result"
    }
   ],
   "source": [
    "train_data.head()"
   ],
   "metadata": {
    "collapsed": false,
    "pycharm": {
     "name": "#%%\n"
    }
   }
  },
  {
   "cell_type": "code",
   "execution_count": 11,
   "outputs": [
    {
     "data": {
      "text/plain": "            id       date   sales  onpromotion  oil_price  year  month  day  \\\n54549  2945646 2017-07-16     2.0            0      46.53  2017      7   16   \n54550  2945647 2017-07-16     0.0            0      46.53  2017      7   16   \n54551  2945648 2017-07-16     2.0            0      46.53  2017      7   16   \n54552  2945649 2017-07-16  1079.0           34      46.53  2017      7   16   \n54553  2945650 2017-07-16     0.0            0      46.53  2017      7   16   \n\n       day_of_week  family_AUTOMOTIVE  ...  type_B  type_C  type_D  type_E  \\\n54549            6                  1  ...       0       0       1       0   \n54550            6                  0  ...       0       0       1       0   \n54551            6                  0  ...       0       0       1       0   \n54552            6                  0  ...       0       0       1       0   \n54553            6                  0  ...       0       0       1       0   \n\n       work_day_name_  work_day_name_Recupero Puente Dia de Difuntos  \\\n54549               1                                              0   \n54550               1                                              0   \n54551               1                                              0   \n54552               1                                              0   \n54553               1                                              0   \n\n       work_day_name_Recupero Puente Navidad  \\\n54549                                      0   \n54550                                      0   \n54551                                      0   \n54552                                      0   \n54553                                      0   \n\n       work_day_name_Recupero Puente Primer dia del ano  \\\n54549                                                 0   \n54550                                                 0   \n54551                                                 0   \n54552                                                 0   \n54553                                                 0   \n\n       work_day_name_Recupero puente Navidad  \\\n54549                                      0   \n54550                                      0   \n54551                                      0   \n54552                                      0   \n54553                                      0   \n\n       work_day_name_Recupero puente primer dia del ano  \n54549                                                 0  \n54550                                                 0  \n54551                                                 0  \n54552                                                 0  \n54553                                                 0  \n\n[5 rows x 263 columns]",
      "text/html": "<div>\n<style scoped>\n    .dataframe tbody tr th:only-of-type {\n        vertical-align: middle;\n    }\n\n    .dataframe tbody tr th {\n        vertical-align: top;\n    }\n\n    .dataframe thead th {\n        text-align: right;\n    }\n</style>\n<table border=\"1\" class=\"dataframe\">\n  <thead>\n    <tr style=\"text-align: right;\">\n      <th></th>\n      <th>id</th>\n      <th>date</th>\n      <th>sales</th>\n      <th>onpromotion</th>\n      <th>oil_price</th>\n      <th>year</th>\n      <th>month</th>\n      <th>day</th>\n      <th>day_of_week</th>\n      <th>family_AUTOMOTIVE</th>\n      <th>...</th>\n      <th>type_B</th>\n      <th>type_C</th>\n      <th>type_D</th>\n      <th>type_E</th>\n      <th>work_day_name_</th>\n      <th>work_day_name_Recupero Puente Dia de Difuntos</th>\n      <th>work_day_name_Recupero Puente Navidad</th>\n      <th>work_day_name_Recupero Puente Primer dia del ano</th>\n      <th>work_day_name_Recupero puente Navidad</th>\n      <th>work_day_name_Recupero puente primer dia del ano</th>\n    </tr>\n  </thead>\n  <tbody>\n    <tr>\n      <th>54549</th>\n      <td>2945646</td>\n      <td>2017-07-16</td>\n      <td>2.0</td>\n      <td>0</td>\n      <td>46.53</td>\n      <td>2017</td>\n      <td>7</td>\n      <td>16</td>\n      <td>6</td>\n      <td>1</td>\n      <td>...</td>\n      <td>0</td>\n      <td>0</td>\n      <td>1</td>\n      <td>0</td>\n      <td>1</td>\n      <td>0</td>\n      <td>0</td>\n      <td>0</td>\n      <td>0</td>\n      <td>0</td>\n    </tr>\n    <tr>\n      <th>54550</th>\n      <td>2945647</td>\n      <td>2017-07-16</td>\n      <td>0.0</td>\n      <td>0</td>\n      <td>46.53</td>\n      <td>2017</td>\n      <td>7</td>\n      <td>16</td>\n      <td>6</td>\n      <td>0</td>\n      <td>...</td>\n      <td>0</td>\n      <td>0</td>\n      <td>1</td>\n      <td>0</td>\n      <td>1</td>\n      <td>0</td>\n      <td>0</td>\n      <td>0</td>\n      <td>0</td>\n      <td>0</td>\n    </tr>\n    <tr>\n      <th>54551</th>\n      <td>2945648</td>\n      <td>2017-07-16</td>\n      <td>2.0</td>\n      <td>0</td>\n      <td>46.53</td>\n      <td>2017</td>\n      <td>7</td>\n      <td>16</td>\n      <td>6</td>\n      <td>0</td>\n      <td>...</td>\n      <td>0</td>\n      <td>0</td>\n      <td>1</td>\n      <td>0</td>\n      <td>1</td>\n      <td>0</td>\n      <td>0</td>\n      <td>0</td>\n      <td>0</td>\n      <td>0</td>\n    </tr>\n    <tr>\n      <th>54552</th>\n      <td>2945649</td>\n      <td>2017-07-16</td>\n      <td>1079.0</td>\n      <td>34</td>\n      <td>46.53</td>\n      <td>2017</td>\n      <td>7</td>\n      <td>16</td>\n      <td>6</td>\n      <td>0</td>\n      <td>...</td>\n      <td>0</td>\n      <td>0</td>\n      <td>1</td>\n      <td>0</td>\n      <td>1</td>\n      <td>0</td>\n      <td>0</td>\n      <td>0</td>\n      <td>0</td>\n      <td>0</td>\n    </tr>\n    <tr>\n      <th>54553</th>\n      <td>2945650</td>\n      <td>2017-07-16</td>\n      <td>0.0</td>\n      <td>0</td>\n      <td>46.53</td>\n      <td>2017</td>\n      <td>7</td>\n      <td>16</td>\n      <td>6</td>\n      <td>0</td>\n      <td>...</td>\n      <td>0</td>\n      <td>0</td>\n      <td>1</td>\n      <td>0</td>\n      <td>1</td>\n      <td>0</td>\n      <td>0</td>\n      <td>0</td>\n      <td>0</td>\n      <td>0</td>\n    </tr>\n  </tbody>\n</table>\n<p>5 rows × 263 columns</p>\n</div>"
     },
     "execution_count": 11,
     "metadata": {},
     "output_type": "execute_result"
    }
   ],
   "source": [
    "valid_data.head()"
   ],
   "metadata": {
    "collapsed": false,
    "pycharm": {
     "name": "#%%\n"
    }
   }
  },
  {
   "cell_type": "code",
   "execution_count": 12,
   "outputs": [
    {
     "data": {
      "text/plain": "        id       date  sales  onpromotion  oil_price  year  month  day  \\\n0  3000888 2017-08-16    NaN            0       46.8  2017      8   16   \n1  3000889 2017-08-16    NaN            0       46.8  2017      8   16   \n2  3000890 2017-08-16    NaN            2       46.8  2017      8   16   \n3  3000891 2017-08-16    NaN           20       46.8  2017      8   16   \n4  3000892 2017-08-16    NaN            0       46.8  2017      8   16   \n\n   day_of_week  family_AUTOMOTIVE  ...  type_B  type_C  type_D  type_E  \\\n0            2                  1  ...       0       0       1       0   \n1            2                  0  ...       0       0       1       0   \n2            2                  0  ...       0       0       1       0   \n3            2                  0  ...       0       0       1       0   \n4            2                  0  ...       0       0       1       0   \n\n   work_day_name_  work_day_name_Recupero Puente Dia de Difuntos  \\\n0               1                                              0   \n1               1                                              0   \n2               1                                              0   \n3               1                                              0   \n4               1                                              0   \n\n   work_day_name_Recupero Puente Navidad  \\\n0                                      0   \n1                                      0   \n2                                      0   \n3                                      0   \n4                                      0   \n\n   work_day_name_Recupero Puente Primer dia del ano  \\\n0                                                 0   \n1                                                 0   \n2                                                 0   \n3                                                 0   \n4                                                 0   \n\n   work_day_name_Recupero puente Navidad  \\\n0                                      0   \n1                                      0   \n2                                      0   \n3                                      0   \n4                                      0   \n\n   work_day_name_Recupero puente primer dia del ano  \n0                                                 0  \n1                                                 0  \n2                                                 0  \n3                                                 0  \n4                                                 0  \n\n[5 rows x 263 columns]",
      "text/html": "<div>\n<style scoped>\n    .dataframe tbody tr th:only-of-type {\n        vertical-align: middle;\n    }\n\n    .dataframe tbody tr th {\n        vertical-align: top;\n    }\n\n    .dataframe thead th {\n        text-align: right;\n    }\n</style>\n<table border=\"1\" class=\"dataframe\">\n  <thead>\n    <tr style=\"text-align: right;\">\n      <th></th>\n      <th>id</th>\n      <th>date</th>\n      <th>sales</th>\n      <th>onpromotion</th>\n      <th>oil_price</th>\n      <th>year</th>\n      <th>month</th>\n      <th>day</th>\n      <th>day_of_week</th>\n      <th>family_AUTOMOTIVE</th>\n      <th>...</th>\n      <th>type_B</th>\n      <th>type_C</th>\n      <th>type_D</th>\n      <th>type_E</th>\n      <th>work_day_name_</th>\n      <th>work_day_name_Recupero Puente Dia de Difuntos</th>\n      <th>work_day_name_Recupero Puente Navidad</th>\n      <th>work_day_name_Recupero Puente Primer dia del ano</th>\n      <th>work_day_name_Recupero puente Navidad</th>\n      <th>work_day_name_Recupero puente primer dia del ano</th>\n    </tr>\n  </thead>\n  <tbody>\n    <tr>\n      <th>0</th>\n      <td>3000888</td>\n      <td>2017-08-16</td>\n      <td>NaN</td>\n      <td>0</td>\n      <td>46.8</td>\n      <td>2017</td>\n      <td>8</td>\n      <td>16</td>\n      <td>2</td>\n      <td>1</td>\n      <td>...</td>\n      <td>0</td>\n      <td>0</td>\n      <td>1</td>\n      <td>0</td>\n      <td>1</td>\n      <td>0</td>\n      <td>0</td>\n      <td>0</td>\n      <td>0</td>\n      <td>0</td>\n    </tr>\n    <tr>\n      <th>1</th>\n      <td>3000889</td>\n      <td>2017-08-16</td>\n      <td>NaN</td>\n      <td>0</td>\n      <td>46.8</td>\n      <td>2017</td>\n      <td>8</td>\n      <td>16</td>\n      <td>2</td>\n      <td>0</td>\n      <td>...</td>\n      <td>0</td>\n      <td>0</td>\n      <td>1</td>\n      <td>0</td>\n      <td>1</td>\n      <td>0</td>\n      <td>0</td>\n      <td>0</td>\n      <td>0</td>\n      <td>0</td>\n    </tr>\n    <tr>\n      <th>2</th>\n      <td>3000890</td>\n      <td>2017-08-16</td>\n      <td>NaN</td>\n      <td>2</td>\n      <td>46.8</td>\n      <td>2017</td>\n      <td>8</td>\n      <td>16</td>\n      <td>2</td>\n      <td>0</td>\n      <td>...</td>\n      <td>0</td>\n      <td>0</td>\n      <td>1</td>\n      <td>0</td>\n      <td>1</td>\n      <td>0</td>\n      <td>0</td>\n      <td>0</td>\n      <td>0</td>\n      <td>0</td>\n    </tr>\n    <tr>\n      <th>3</th>\n      <td>3000891</td>\n      <td>2017-08-16</td>\n      <td>NaN</td>\n      <td>20</td>\n      <td>46.8</td>\n      <td>2017</td>\n      <td>8</td>\n      <td>16</td>\n      <td>2</td>\n      <td>0</td>\n      <td>...</td>\n      <td>0</td>\n      <td>0</td>\n      <td>1</td>\n      <td>0</td>\n      <td>1</td>\n      <td>0</td>\n      <td>0</td>\n      <td>0</td>\n      <td>0</td>\n      <td>0</td>\n    </tr>\n    <tr>\n      <th>4</th>\n      <td>3000892</td>\n      <td>2017-08-16</td>\n      <td>NaN</td>\n      <td>0</td>\n      <td>46.8</td>\n      <td>2017</td>\n      <td>8</td>\n      <td>16</td>\n      <td>2</td>\n      <td>0</td>\n      <td>...</td>\n      <td>0</td>\n      <td>0</td>\n      <td>1</td>\n      <td>0</td>\n      <td>1</td>\n      <td>0</td>\n      <td>0</td>\n      <td>0</td>\n      <td>0</td>\n      <td>0</td>\n    </tr>\n  </tbody>\n</table>\n<p>5 rows × 263 columns</p>\n</div>"
     },
     "execution_count": 12,
     "metadata": {},
     "output_type": "execute_result"
    }
   ],
   "source": [
    "test_data.head()"
   ],
   "metadata": {
    "collapsed": false,
    "pycharm": {
     "name": "#%%\n"
    }
   }
  },
  {
   "cell_type": "code",
   "execution_count": 13,
   "outputs": [
    {
     "name": "stdout",
     "output_type": "stream",
     "text": [
      "Train from 2013-01-01T00:00:00.000000000 to 2017-07-15T00:00:00.000000000\n",
      "Valid from 2017-07-16T00:00:00.000000000 to 2017-08-15T00:00:00.000000000\n",
      "Test from 2017-08-16T00:00:00.000000000 to 2017-08-31T00:00:00.000000000\n"
     ]
    }
   ],
   "source": [
    "train_dates = train_data.date.unique()\n",
    "valid_dates = valid_data.date.unique()\n",
    "test_dates = test_data.date.unique()\n",
    "print(f'Train from {train_dates[0]} to {train_dates[-1]}')\n",
    "print(f'Valid from {valid_dates[0]} to {valid_dates[-1]}')\n",
    "print(f'Test from {test_dates[0]} to {test_dates[-1]}')"
   ],
   "metadata": {
    "collapsed": false,
    "pycharm": {
     "name": "#%%\n"
    }
   }
  },
  {
   "cell_type": "code",
   "execution_count": 14,
   "outputs": [],
   "source": [
    "y_train = train_data[['sales']].values\n",
    "y_valid = valid_data[['sales']].values\n",
    "\n",
    "X_train = train_data.drop(['id', 'sales', 'year', 'date'], axis=1)\n",
    "X_valid = valid_data.drop(['id', 'sales', 'year', 'date'], axis=1)\n",
    "\n",
    "X_test = test_data.drop(['id', 'date', 'year', 'sales'], axis=1)"
   ],
   "metadata": {
    "collapsed": false,
    "pycharm": {
     "name": "#%%\n"
    }
   }
  },
  {
   "cell_type": "code",
   "execution_count": 15,
   "outputs": [
    {
     "data": {
      "text/plain": "   onpromotion  oil_price  month  day  day_of_week  family_AUTOMOTIVE  \\\n0            0       46.8      8   16            2                  1   \n1            0       46.8      8   16            2                  0   \n2            2       46.8      8   16            2                  0   \n3           20       46.8      8   16            2                  0   \n4            0       46.8      8   16            2                  0   \n\n   family_BABY CARE  family_BEAUTY  family_BEVERAGES  family_BOOKS  ...  \\\n0                 0              0                 0             0  ...   \n1                 1              0                 0             0  ...   \n2                 0              1                 0             0  ...   \n3                 0              0                 1             0  ...   \n4                 0              0                 0             1  ...   \n\n   type_B  type_C  type_D  type_E  work_day_name_  \\\n0       0       0       1       0               1   \n1       0       0       1       0               1   \n2       0       0       1       0               1   \n3       0       0       1       0               1   \n4       0       0       1       0               1   \n\n   work_day_name_Recupero Puente Dia de Difuntos  \\\n0                                              0   \n1                                              0   \n2                                              0   \n3                                              0   \n4                                              0   \n\n   work_day_name_Recupero Puente Navidad  \\\n0                                      0   \n1                                      0   \n2                                      0   \n3                                      0   \n4                                      0   \n\n   work_day_name_Recupero Puente Primer dia del ano  \\\n0                                                 0   \n1                                                 0   \n2                                                 0   \n3                                                 0   \n4                                                 0   \n\n   work_day_name_Recupero puente Navidad  \\\n0                                      0   \n1                                      0   \n2                                      0   \n3                                      0   \n4                                      0   \n\n   work_day_name_Recupero puente primer dia del ano  \n0                                                 0  \n1                                                 0  \n2                                                 0  \n3                                                 0  \n4                                                 0  \n\n[5 rows x 259 columns]",
      "text/html": "<div>\n<style scoped>\n    .dataframe tbody tr th:only-of-type {\n        vertical-align: middle;\n    }\n\n    .dataframe tbody tr th {\n        vertical-align: top;\n    }\n\n    .dataframe thead th {\n        text-align: right;\n    }\n</style>\n<table border=\"1\" class=\"dataframe\">\n  <thead>\n    <tr style=\"text-align: right;\">\n      <th></th>\n      <th>onpromotion</th>\n      <th>oil_price</th>\n      <th>month</th>\n      <th>day</th>\n      <th>day_of_week</th>\n      <th>family_AUTOMOTIVE</th>\n      <th>family_BABY CARE</th>\n      <th>family_BEAUTY</th>\n      <th>family_BEVERAGES</th>\n      <th>family_BOOKS</th>\n      <th>...</th>\n      <th>type_B</th>\n      <th>type_C</th>\n      <th>type_D</th>\n      <th>type_E</th>\n      <th>work_day_name_</th>\n      <th>work_day_name_Recupero Puente Dia de Difuntos</th>\n      <th>work_day_name_Recupero Puente Navidad</th>\n      <th>work_day_name_Recupero Puente Primer dia del ano</th>\n      <th>work_day_name_Recupero puente Navidad</th>\n      <th>work_day_name_Recupero puente primer dia del ano</th>\n    </tr>\n  </thead>\n  <tbody>\n    <tr>\n      <th>0</th>\n      <td>0</td>\n      <td>46.8</td>\n      <td>8</td>\n      <td>16</td>\n      <td>2</td>\n      <td>1</td>\n      <td>0</td>\n      <td>0</td>\n      <td>0</td>\n      <td>0</td>\n      <td>...</td>\n      <td>0</td>\n      <td>0</td>\n      <td>1</td>\n      <td>0</td>\n      <td>1</td>\n      <td>0</td>\n      <td>0</td>\n      <td>0</td>\n      <td>0</td>\n      <td>0</td>\n    </tr>\n    <tr>\n      <th>1</th>\n      <td>0</td>\n      <td>46.8</td>\n      <td>8</td>\n      <td>16</td>\n      <td>2</td>\n      <td>0</td>\n      <td>1</td>\n      <td>0</td>\n      <td>0</td>\n      <td>0</td>\n      <td>...</td>\n      <td>0</td>\n      <td>0</td>\n      <td>1</td>\n      <td>0</td>\n      <td>1</td>\n      <td>0</td>\n      <td>0</td>\n      <td>0</td>\n      <td>0</td>\n      <td>0</td>\n    </tr>\n    <tr>\n      <th>2</th>\n      <td>2</td>\n      <td>46.8</td>\n      <td>8</td>\n      <td>16</td>\n      <td>2</td>\n      <td>0</td>\n      <td>0</td>\n      <td>1</td>\n      <td>0</td>\n      <td>0</td>\n      <td>...</td>\n      <td>0</td>\n      <td>0</td>\n      <td>1</td>\n      <td>0</td>\n      <td>1</td>\n      <td>0</td>\n      <td>0</td>\n      <td>0</td>\n      <td>0</td>\n      <td>0</td>\n    </tr>\n    <tr>\n      <th>3</th>\n      <td>20</td>\n      <td>46.8</td>\n      <td>8</td>\n      <td>16</td>\n      <td>2</td>\n      <td>0</td>\n      <td>0</td>\n      <td>0</td>\n      <td>1</td>\n      <td>0</td>\n      <td>...</td>\n      <td>0</td>\n      <td>0</td>\n      <td>1</td>\n      <td>0</td>\n      <td>1</td>\n      <td>0</td>\n      <td>0</td>\n      <td>0</td>\n      <td>0</td>\n      <td>0</td>\n    </tr>\n    <tr>\n      <th>4</th>\n      <td>0</td>\n      <td>46.8</td>\n      <td>8</td>\n      <td>16</td>\n      <td>2</td>\n      <td>0</td>\n      <td>0</td>\n      <td>0</td>\n      <td>0</td>\n      <td>1</td>\n      <td>...</td>\n      <td>0</td>\n      <td>0</td>\n      <td>1</td>\n      <td>0</td>\n      <td>1</td>\n      <td>0</td>\n      <td>0</td>\n      <td>0</td>\n      <td>0</td>\n      <td>0</td>\n    </tr>\n  </tbody>\n</table>\n<p>5 rows × 259 columns</p>\n</div>"
     },
     "execution_count": 15,
     "metadata": {},
     "output_type": "execute_result"
    }
   ],
   "source": [
    "X_test.head()"
   ],
   "metadata": {
    "collapsed": false,
    "pycharm": {
     "name": "#%%\n"
    }
   }
  },
  {
   "cell_type": "code",
   "execution_count": 16,
   "outputs": [],
   "source": [
    "normalizer = tf.keras.layers.Normalization(axis=-1)\n",
    "normalizer.adapt(X_train.values)"
   ],
   "metadata": {
    "collapsed": false,
    "pycharm": {
     "name": "#%%\n"
    }
   }
  },
  {
   "cell_type": "code",
   "execution_count": 49,
   "outputs": [],
   "source": [
    "model = keras.Sequential([\n",
    "    normalizer,\n",
    "    layers.Dense(256, activation='relu'),\n",
    "    layers.Dropout(0.3),\n",
    "    layers.Dense(128, activation='relu'),\n",
    "    layers.Dropout(0.3),\n",
    "    layers.Dense(128, activation='relu'),\n",
    "    layers.Dropout(0.3),\n",
    "    layers.Dense(64, activation='relu'),\n",
    "    layers.Dropout(0.3),\n",
    "    layers.Dense(32, activation='relu'),\n",
    "    layers.Dropout(0.3),\n",
    "    layers.Dense(1),\n",
    "])\n",
    "model.compile(\n",
    "    loss='mean_squared_logarithmic_error',\n",
    "    optimizer=tf.keras.optimizers.Adam(0.001),\n",
    ")"
   ],
   "metadata": {
    "collapsed": false,
    "pycharm": {
     "name": "#%%\n"
    }
   }
  },
  {
   "cell_type": "code",
   "execution_count": 50,
   "outputs": [
    {
     "name": "stdout",
     "output_type": "stream",
     "text": [
      "Model: \"sequential_7\"\n",
      "_________________________________________________________________\n",
      " Layer (type)                Output Shape              Param #   \n",
      "=================================================================\n",
      " normalization (Normalizatio  (None, 259)              519       \n",
      " n)                                                              \n",
      "                                                                 \n",
      " dense_42 (Dense)            (None, 256)               66560     \n",
      "                                                                 \n",
      " dropout_35 (Dropout)        (None, 256)               0         \n",
      "                                                                 \n",
      " dense_43 (Dense)            (None, 128)               32896     \n",
      "                                                                 \n",
      " dropout_36 (Dropout)        (None, 128)               0         \n",
      "                                                                 \n",
      " dense_44 (Dense)            (None, 128)               16512     \n",
      "                                                                 \n",
      " dropout_37 (Dropout)        (None, 128)               0         \n",
      "                                                                 \n",
      " dense_45 (Dense)            (None, 64)                8256      \n",
      "                                                                 \n",
      " dropout_38 (Dropout)        (None, 64)                0         \n",
      "                                                                 \n",
      " dense_46 (Dense)            (None, 32)                2080      \n",
      "                                                                 \n",
      " dropout_39 (Dropout)        (None, 32)                0         \n",
      "                                                                 \n",
      " dense_47 (Dense)            (None, 1)                 33        \n",
      "                                                                 \n",
      "=================================================================\n",
      "Total params: 126,856\n",
      "Trainable params: 126,337\n",
      "Non-trainable params: 519\n",
      "_________________________________________________________________\n"
     ]
    }
   ],
   "source": [
    "model.summary()"
   ],
   "metadata": {
    "collapsed": false,
    "pycharm": {
     "name": "#%%\n"
    }
   }
  },
  {
   "cell_type": "code",
   "execution_count": 51,
   "outputs": [
    {
     "name": "stdout",
     "output_type": "stream",
     "text": [
      "Epoch 1/10\n",
      "99/99 [==============================] - 15s 142ms/step - loss: 4.5234 - val_loss: 1.7082\n",
      "Epoch 2/10\n",
      "99/99 [==============================] - 14s 137ms/step - loss: 1.2610 - val_loss: 1.0331\n",
      "Epoch 3/10\n",
      "99/99 [==============================] - 14s 139ms/step - loss: 0.9896 - val_loss: 0.8339\n",
      "Epoch 4/10\n",
      "99/99 [==============================] - 14s 140ms/step - loss: 0.8948 - val_loss: 0.7410\n",
      "Epoch 5/10\n",
      "99/99 [==============================] - 13s 136ms/step - loss: 0.8381 - val_loss: 0.7050\n",
      "Epoch 6/10\n",
      "99/99 [==============================] - 14s 137ms/step - loss: 0.7958 - val_loss: 0.6409\n",
      "Epoch 7/10\n",
      "99/99 [==============================] - 14s 139ms/step - loss: 0.7634 - val_loss: 0.5951\n",
      "Epoch 8/10\n",
      "99/99 [==============================] - 14s 138ms/step - loss: 0.7345 - val_loss: 0.5781\n",
      "Epoch 9/10\n",
      "99/99 [==============================] - 14s 138ms/step - loss: 0.7088 - val_loss: 0.5881\n",
      "Epoch 10/10\n",
      "99/99 [==============================] - 14s 140ms/step - loss: 0.6866 - val_loss: 0.5461\n",
      "Wall time: 2min 24s\n"
     ]
    }
   ],
   "source": [
    "%%time\n",
    "history = model.fit(\n",
    "    X_train.values,\n",
    "    y_train,\n",
    "    batch_size=30000,\n",
    "    validation_data=(X_valid, y_valid),\n",
    "    epochs=10,\n",
    ")"
   ],
   "metadata": {
    "collapsed": false,
    "pycharm": {
     "name": "#%%\n"
    }
   }
  },
  {
   "cell_type": "code",
   "execution_count": 52,
   "outputs": [
    {
     "data": {
      "text/plain": "<Figure size 432x288 with 1 Axes>",
      "image/png": "[encoded data removed]"
     },
     "metadata": {
      "needs_background": "light"
     },
     "output_type": "display_data"
    }
   ],
   "source": [
    "plt.plot(history.history['loss'], label='loss')\n",
    "plt.plot(history.history['val_loss'], label='val_loss')\n",
    "plt.xlabel('Epoch')\n",
    "plt.ylabel('Error')\n",
    "plt.legend()\n",
    "plt.grid(True)"
   ],
   "metadata": {
    "collapsed": false,
    "pycharm": {
     "name": "#%%\n"
    }
   }
  },
  {
   "cell_type": "code",
   "execution_count": 56,
   "outputs": [
    {
     "data": {
      "text/plain": "0.5461466518330349"
     },
     "execution_count": 56,
     "metadata": {},
     "output_type": "execute_result"
    }
   ],
   "source": [
    "y_valid_pred = pd.Series(np.squeeze(model.predict(X_valid))).map(lambda x: max(x, 0))\n",
    "mean_squared_log_error(y_valid, y_valid_pred)"
   ],
   "metadata": {
    "collapsed": false,
    "pycharm": {
     "name": "#%%\n"
    }
   }
  },
  {
   "cell_type": "code",
   "execution_count": 59,
   "outputs": [
    {
     "data": {
      "text/plain": "   index       id       date   sales  onpromotion  oil_price  year  month  \\\n0  54549  2945646 2017-07-16     2.0            0      46.53  2017      7   \n1  54550  2945647 2017-07-16     0.0            0      46.53  2017      7   \n2  54551  2945648 2017-07-16     2.0            0      46.53  2017      7   \n3  54552  2945649 2017-07-16  1079.0           34      46.53  2017      7   \n4  54553  2945650 2017-07-16     0.0            0      46.53  2017      7   \n\n   day  day_of_week  ...  type_C  type_D  type_E  work_day_name_  \\\n0   16            6  ...       0       1       0               1   \n1   16            6  ...       0       1       0               1   \n2   16            6  ...       0       1       0               1   \n3   16            6  ...       0       1       0               1   \n4   16            6  ...       0       1       0               1   \n\n   work_day_name_Recupero Puente Dia de Difuntos  \\\n0                                              0   \n1                                              0   \n2                                              0   \n3                                              0   \n4                                              0   \n\n   work_day_name_Recupero Puente Navidad  \\\n0                                      0   \n1                                      0   \n2                                      0   \n3                                      0   \n4                                      0   \n\n   work_day_name_Recupero Puente Primer dia del ano  \\\n0                                                 0   \n1                                                 0   \n2                                                 0   \n3                                                 0   \n4                                                 0   \n\n   work_day_name_Recupero puente Navidad  \\\n0                                      0   \n1                                      0   \n2                                      0   \n3                                      0   \n4                                      0   \n\n   work_day_name_Recupero puente primer dia del ano   sales_pred  \n0                                                 0     2.420721  \n1                                                 0     0.024278  \n2                                                 0     1.828948  \n3                                                 0  2480.333496  \n4                                                 0     0.023321  \n\n[5 rows x 265 columns]",
      "text/html": "<div>\n<style scoped>\n    .dataframe tbody tr th:only-of-type {\n        vertical-align: middle;\n    }\n\n    .dataframe tbody tr th {\n        vertical-align: top;\n    }\n\n    .dataframe thead th {\n        text-align: right;\n    }\n</style>\n<table border=\"1\" class=\"dataframe\">\n  <thead>\n    <tr style=\"text-align: right;\">\n      <th></th>\n      <th>index</th>\n      <th>id</th>\n      <th>date</th>\n      <th>sales</th>\n      <th>onpromotion</th>\n      <th>oil_price</th>\n      <th>year</th>\n      <th>month</th>\n      <th>day</th>\n      <th>day_of_week</th>\n      <th>...</th>\n      <th>type_C</th>\n      <th>type_D</th>\n      <th>type_E</th>\n      <th>work_day_name_</th>\n      <th>work_day_name_Recupero Puente Dia de Difuntos</th>\n      <th>work_day_name_Recupero Puente Navidad</th>\n      <th>work_day_name_Recupero Puente Primer dia del ano</th>\n      <th>work_day_name_Recupero puente Navidad</th>\n      <th>work_day_name_Recupero puente primer dia del ano</th>\n      <th>sales_pred</th>\n    </tr>\n  </thead>\n  <tbody>\n    <tr>\n      <th>0</th>\n      <td>54549</td>\n      <td>2945646</td>\n      <td>2017-07-16</td>\n      <td>2.0</td>\n      <td>0</td>\n      <td>46.53</td>\n      <td>2017</td>\n      <td>7</td>\n      <td>16</td>\n      <td>6</td>\n      <td>...</td>\n      <td>0</td>\n      <td>1</td>\n      <td>0</td>\n      <td>1</td>\n      <td>0</td>\n      <td>0</td>\n      <td>0</td>\n      <td>0</td>\n      <td>0</td>\n      <td>2.420721</td>\n    </tr>\n    <tr>\n      <th>1</th>\n      <td>54550</td>\n      <td>2945647</td>\n      <td>2017-07-16</td>\n      <td>0.0</td>\n      <td>0</td>\n      <td>46.53</td>\n      <td>2017</td>\n      <td>7</td>\n      <td>16</td>\n      <td>6</td>\n      <td>...</td>\n      <td>0</td>\n      <td>1</td>\n      <td>0</td>\n      <td>1</td>\n      <td>0</td>\n      <td>0</td>\n      <td>0</td>\n      <td>0</td>\n      <td>0</td>\n      <td>0.024278</td>\n    </tr>\n    <tr>\n      <th>2</th>\n      <td>54551</td>\n      <td>2945648</td>\n      <td>2017-07-16</td>\n      <td>2.0</td>\n      <td>0</td>\n      <td>46.53</td>\n      <td>2017</td>\n      <td>7</td>\n      <td>16</td>\n      <td>6</td>\n      <td>...</td>\n      <td>0</td>\n      <td>1</td>\n      <td>0</td>\n      <td>1</td>\n      <td>0</td>\n      <td>0</td>\n      <td>0</td>\n      <td>0</td>\n      <td>0</td>\n      <td>1.828948</td>\n    </tr>\n    <tr>\n      <th>3</th>\n      <td>54552</td>\n      <td>2945649</td>\n      <td>2017-07-16</td>\n      <td>1079.0</td>\n      <td>34</td>\n      <td>46.53</td>\n      <td>2017</td>\n      <td>7</td>\n      <td>16</td>\n      <td>6</td>\n      <td>...</td>\n      <td>0</td>\n      <td>1</td>\n      <td>0</td>\n      <td>1</td>\n      <td>0</td>\n      <td>0</td>\n      <td>0</td>\n      <td>0</td>\n      <td>0</td>\n      <td>2480.333496</td>\n    </tr>\n    <tr>\n      <th>4</th>\n      <td>54553</td>\n      <td>2945650</td>\n      <td>2017-07-16</td>\n      <td>0.0</td>\n      <td>0</td>\n      <td>46.53</td>\n      <td>2017</td>\n      <td>7</td>\n      <td>16</td>\n      <td>6</td>\n      <td>...</td>\n      <td>0</td>\n      <td>1</td>\n      <td>0</td>\n      <td>1</td>\n      <td>0</td>\n      <td>0</td>\n      <td>0</td>\n      <td>0</td>\n      <td>0</td>\n      <td>0.023321</td>\n    </tr>\n  </tbody>\n</table>\n<p>5 rows × 265 columns</p>\n</div>"
     },
     "execution_count": 59,
     "metadata": {},
     "output_type": "execute_result"
    }
   ],
   "source": [
    "valid_pred = valid_data.copy().reset_index()\n",
    "valid_pred['sales_pred'] = y_valid_pred\n",
    "valid_pred.head()"
   ],
   "metadata": {
    "collapsed": false,
    "pycharm": {
     "name": "#%%\n"
    }
   }
  },
  {
   "cell_type": "code",
   "execution_count": 60,
   "outputs": [
    {
     "data": {
      "text/plain": "   onpromotion  oil_price  month  day  day_of_week  family_AUTOMOTIVE  \\\n0            0       46.8      8   16            2                  1   \n1            0       46.8      8   16            2                  0   \n2            2       46.8      8   16            2                  0   \n3           20       46.8      8   16            2                  0   \n4            0       46.8      8   16            2                  0   \n\n   family_BABY CARE  family_BEAUTY  family_BEVERAGES  family_BOOKS  ...  \\\n0                 0              0                 0             0  ...   \n1                 1              0                 0             0  ...   \n2                 0              1                 0             0  ...   \n3                 0              0                 1             0  ...   \n4                 0              0                 0             1  ...   \n\n   type_C  type_D  type_E  work_day_name_  \\\n0       0       1       0               1   \n1       0       1       0               1   \n2       0       1       0               1   \n3       0       1       0               1   \n4       0       1       0               1   \n\n   work_day_name_Recupero Puente Dia de Difuntos  \\\n0                                              0   \n1                                              0   \n2                                              0   \n3                                              0   \n4                                              0   \n\n   work_day_name_Recupero Puente Navidad  \\\n0                                      0   \n1                                      0   \n2                                      0   \n3                                      0   \n4                                      0   \n\n   work_day_name_Recupero Puente Primer dia del ano  \\\n0                                                 0   \n1                                                 0   \n2                                                 0   \n3                                                 0   \n4                                                 0   \n\n   work_day_name_Recupero puente Navidad  \\\n0                                      0   \n1                                      0   \n2                                      0   \n3                                      0   \n4                                      0   \n\n   work_day_name_Recupero puente primer dia del ano        sales  \n0                                                 0     2.172394  \n1                                                 0     0.020273  \n2                                                 0     2.328211  \n3                                                 0  2200.341797  \n4                                                 0     0.016258  \n\n[5 rows x 260 columns]",
      "text/html": "<div>\n<style scoped>\n    .dataframe tbody tr th:only-of-type {\n        vertical-align: middle;\n    }\n\n    .dataframe tbody tr th {\n        vertical-align: top;\n    }\n\n    .dataframe thead th {\n        text-align: right;\n    }\n</style>\n<table border=\"1\" class=\"dataframe\">\n  <thead>\n    <tr style=\"text-align: right;\">\n      <th></th>\n      <th>onpromotion</th>\n      <th>oil_price</th>\n      <th>month</th>\n      <th>day</th>\n      <th>day_of_week</th>\n      <th>family_AUTOMOTIVE</th>\n      <th>family_BABY CARE</th>\n      <th>family_BEAUTY</th>\n      <th>family_BEVERAGES</th>\n      <th>family_BOOKS</th>\n      <th>...</th>\n      <th>type_C</th>\n      <th>type_D</th>\n      <th>type_E</th>\n      <th>work_day_name_</th>\n      <th>work_day_name_Recupero Puente Dia de Difuntos</th>\n      <th>work_day_name_Recupero Puente Navidad</th>\n      <th>work_day_name_Recupero Puente Primer dia del ano</th>\n      <th>work_day_name_Recupero puente Navidad</th>\n      <th>work_day_name_Recupero puente primer dia del ano</th>\n      <th>sales</th>\n    </tr>\n  </thead>\n  <tbody>\n    <tr>\n      <th>0</th>\n      <td>0</td>\n      <td>46.8</td>\n      <td>8</td>\n      <td>16</td>\n      <td>2</td>\n      <td>1</td>\n      <td>0</td>\n      <td>0</td>\n      <td>0</td>\n      <td>0</td>\n      <td>...</td>\n      <td>0</td>\n      <td>1</td>\n      <td>0</td>\n      <td>1</td>\n      <td>0</td>\n      <td>0</td>\n      <td>0</td>\n      <td>0</td>\n      <td>0</td>\n      <td>2.172394</td>\n    </tr>\n    <tr>\n      <th>1</th>\n      <td>0</td>\n      <td>46.8</td>\n      <td>8</td>\n      <td>16</td>\n      <td>2</td>\n      <td>0</td>\n      <td>1</td>\n      <td>0</td>\n      <td>0</td>\n      <td>0</td>\n      <td>...</td>\n      <td>0</td>\n      <td>1</td>\n      <td>0</td>\n      <td>1</td>\n      <td>0</td>\n      <td>0</td>\n      <td>0</td>\n      <td>0</td>\n      <td>0</td>\n      <td>0.020273</td>\n    </tr>\n    <tr>\n      <th>2</th>\n      <td>2</td>\n      <td>46.8</td>\n      <td>8</td>\n      <td>16</td>\n      <td>2</td>\n      <td>0</td>\n      <td>0</td>\n      <td>1</td>\n      <td>0</td>\n      <td>0</td>\n      <td>...</td>\n      <td>0</td>\n      <td>1</td>\n      <td>0</td>\n      <td>1</td>\n      <td>0</td>\n      <td>0</td>\n      <td>0</td>\n      <td>0</td>\n      <td>0</td>\n      <td>2.328211</td>\n    </tr>\n    <tr>\n      <th>3</th>\n      <td>20</td>\n      <td>46.8</td>\n      <td>8</td>\n      <td>16</td>\n      <td>2</td>\n      <td>0</td>\n      <td>0</td>\n      <td>0</td>\n      <td>1</td>\n      <td>0</td>\n      <td>...</td>\n      <td>0</td>\n      <td>1</td>\n      <td>0</td>\n      <td>1</td>\n      <td>0</td>\n      <td>0</td>\n      <td>0</td>\n      <td>0</td>\n      <td>0</td>\n      <td>2200.341797</td>\n    </tr>\n    <tr>\n      <th>4</th>\n      <td>0</td>\n      <td>46.8</td>\n      <td>8</td>\n      <td>16</td>\n      <td>2</td>\n      <td>0</td>\n      <td>0</td>\n      <td>0</td>\n      <td>0</td>\n      <td>1</td>\n      <td>...</td>\n      <td>0</td>\n      <td>1</td>\n      <td>0</td>\n      <td>1</td>\n      <td>0</td>\n      <td>0</td>\n      <td>0</td>\n      <td>0</td>\n      <td>0</td>\n      <td>0.016258</td>\n    </tr>\n  </tbody>\n</table>\n<p>5 rows × 260 columns</p>\n</div>"
     },
     "execution_count": 60,
     "metadata": {},
     "output_type": "execute_result"
    }
   ],
   "source": [
    "y_test_pred = pd.Series(np.squeeze(model.predict(X_test))).map(lambda x: max(x, 0))\n",
    "pred = X_test.copy()\n",
    "pred['sales'] = y_test_pred\n",
    "pred.head()"
   ],
   "metadata": {
    "collapsed": false,
    "pycharm": {
     "name": "#%%\n"
    }
   }
  },
  {
   "cell_type": "code",
   "execution_count": 61,
   "outputs": [
    {
     "data": {
      "text/plain": "        id        sales\n0  3000888     2.172394\n1  3000889     0.020273\n2  3000890     2.328211\n3  3000891  2200.341797\n4  3000892     0.016258",
      "text/html": "<div>\n<style scoped>\n    .dataframe tbody tr th:only-of-type {\n        vertical-align: middle;\n    }\n\n    .dataframe tbody tr th {\n        vertical-align: top;\n    }\n\n    .dataframe thead th {\n        text-align: right;\n    }\n</style>\n<table border=\"1\" class=\"dataframe\">\n  <thead>\n    <tr style=\"text-align: right;\">\n      <th></th>\n      <th>id</th>\n      <th>sales</th>\n    </tr>\n  </thead>\n  <tbody>\n    <tr>\n      <th>0</th>\n      <td>3000888</td>\n      <td>2.172394</td>\n    </tr>\n    <tr>\n      <th>1</th>\n      <td>3000889</td>\n      <td>0.020273</td>\n    </tr>\n    <tr>\n      <th>2</th>\n      <td>3000890</td>\n      <td>2.328211</td>\n    </tr>\n    <tr>\n      <th>3</th>\n      <td>3000891</td>\n      <td>2200.341797</td>\n    </tr>\n    <tr>\n      <th>4</th>\n      <td>3000892</td>\n      <td>0.016258</td>\n    </tr>\n  </tbody>\n</table>\n</div>"
     },
     "execution_count": 61,
     "metadata": {},
     "output_type": "execute_result"
    }
   ],
   "source": [
    "sub = test[['id']].copy()\n",
    "sub['sales'] = pred.sales\n",
    "sub.head()"
   ],
   "metadata": {
    "collapsed": false,
    "pycharm": {
     "name": "#%%\n"
    }
   }
  },
  {
   "cell_type": "code",
   "execution_count": 62,
   "outputs": [],
   "source": [
    "sub.to_csv('data/submission_nn.csv', index=False)"
   ],
   "metadata": {
    "collapsed": false,
    "pycharm": {
     "name": "#%%\n"
    }
   }
  },
  {
   "cell_type": "code",
   "execution_count": null,
   "outputs": [],
   "source": [],
   "metadata": {
    "collapsed": false,
    "pycharm": {
     "name": "#%%\n"
    }
   }
  }
 ],
 "metadata": {
  "kernelspec": {
   "display_name": "Python 3",
   "language": "python",
   "name": "python3"
  },
  "language_info": {
   "codemirror_mode": {
    "name": "ipython",
    "version": 2
   },
   "file_extension": ".py",
   "mimetype": "text/x-python",
   "name": "python",
   "nbconvert_exporter": "python",
   "pygments_lexer": "ipython2",
   "version": "2.7.6"
  }
 },
 "nbformat": 4,
 "nbformat_minor": 0
}