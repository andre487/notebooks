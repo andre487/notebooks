{
 "cells": [
  {
   "cell_type": "code",
   "execution_count": 15,
   "metadata": {},
   "outputs": [],
   "source": [
    "import json\n",
    "import time\n",
    "\n",
    "import numpy as np\n",
    "import pandas as pd\n",
    "import requests\n",
    "import bs4\n",
    "import logging"
   ]
  },
  {
   "cell_type": "code",
   "execution_count": 3,
   "metadata": {},
   "outputs": [],
   "source": [
    "logging.basicConfig(level=logging.INFO, format='%(levelname)s: %(message)s')"
   ]
  },
  {
   "cell_type": "code",
   "execution_count": 13,
   "metadata": {},
   "outputs": [
    {
     "name": "stderr",
     "output_type": "stream",
     "text": [
      "INFO: Loading page 1\n",
      "INFO: Loading page 2\n",
      "INFO: Loading page 3\n",
      "INFO: Loading page 4\n",
      "INFO: Loading page 5\n",
      "INFO: Loading page 6\n",
      "INFO: Loading page 7\n",
      "INFO: Loading page 8\n",
      "INFO: Loading page 9\n",
      "INFO: Loading page 10\n",
      "INFO: Loading page 11\n",
      "INFO: Loading page 12\n",
      "INFO: Loading page 13\n",
      "INFO: Loading page 14\n",
      "INFO: Loading page 15\n",
      "INFO: Loading page 16\n",
      "INFO: Loading page 17\n",
      "INFO: Loading page 18\n",
      "INFO: Loading page 19\n",
      "INFO: Loading page 20\n",
      "INFO: Loading page 21\n",
      "INFO: Loading page 22\n",
      "INFO: Loading page 23\n",
      "INFO: Loading page 24\n",
      "INFO: Loading page 25\n",
      "INFO: Loading page 26\n",
      "INFO: Loading page 27\n",
      "INFO: Loading page 28\n",
      "INFO: Loading page 29\n",
      "INFO: Loading page 30\n",
      "INFO: Loading page 31\n",
      "INFO: Loading page 32\n",
      "INFO: Loading page 33\n",
      "INFO: Loading page 34\n",
      "INFO: Loading page 35\n",
      "INFO: Loading page 36\n",
      "INFO: Loading page 37\n",
      "INFO: Loading page 38\n",
      "INFO: Loading page 39\n",
      "INFO: Loading page 40\n",
      "INFO: Loading page 41\n",
      "INFO: Loading page 42\n",
      "INFO: Loading page 43\n",
      "INFO: Loading page 44\n",
      "INFO: Loading page 45\n",
      "INFO: Loading page 46\n",
      "INFO: Loading page 47\n",
      "INFO: Loading page 48\n",
      "INFO: Loading page 49\n",
      "INFO: Loading page 50\n"
     ]
    }
   ],
   "source": [
    "base_url = 'https://market.yandex.ru/catalog--mobilnye-telefony-otzyvy-pokupatelei/54726/list?show-reviews=1&local-offers-first=0&page='\n",
    "\n",
    "pages = []\n",
    "for i in range(1, 51):\n",
    "    logging.info(f'Loading page {i}')\n",
    "    url = base_url + str(i)\n",
    "    resp = requests.get(url, headers={\n",
    "        'User-Agent': 'Mozilla/5.0 (Windows NT 10.0; Win64; x64) AppleWebKit/537.36 (KHTML, like Gecko) Chrome/94.0.4606.85 YaBrowser/21.11.1.932 Yowser/2.5 Safari/537.36',\n",
    "        'Cookie': '',\n",
    "    })\n",
    "    if not resp.ok or '/captcha_smart.min.css' in resp.text:\n",
    "        logging.warning(f'Error for page {i}: {resp.status_code}')\n",
    "        time.sleep(5)\n",
    "        continue\n",
    "    pages.append(resp.text)\n",
    "    time.sleep(1)"
   ]
  },
  {
   "cell_type": "code",
   "execution_count": 17,
   "metadata": {},
   "outputs": [],
   "source": [
    "with open('market-pages.json', 'w') as fp:\n",
    "    json.dump(pages, fp)"
   ]
  },
  {
   "cell_type": "code",
   "execution_count": 4,
   "metadata": {},
   "outputs": [],
   "source": [
    "with open('market-pages.json') as fp:\n",
    "    pages = json.load(fp)"
   ]
  },
  {
   "cell_type": "code",
   "execution_count": 12,
   "metadata": {},
   "outputs": [],
   "source": [
    "def get_node_text(result_set):\n",
    "    if len(result_set):\n",
    "        item = result_set\n",
    "        if not getattr(item, 'find_all', None):\n",
    "            item = result_set[0]\n",
    "        texsts = item.find_all(string=True)\n",
    "        return ' '.join(texsts).strip()\n",
    "    return ''"
   ]
  },
  {
   "cell_type": "code",
   "execution_count": 16,
   "metadata": {},
   "outputs": [],
   "source": [
    "def get_market_page_reviews(p):\n",
    "    soup = bs4.BeautifulSoup(p, 'lxml')\n",
    "    review_blocks = soup.select('[data-zone-name=product-review]')\n",
    "    \n",
    "    result = []\n",
    "    for review_block in review_blocks:\n",
    "        rating = int(review_block.select('.autotest-RatingStars')[0].attrs['data-rate'])\n",
    "        text_blocks = review_block.select('dd')\n",
    "        text_parts = []\n",
    "        for text_part in text_blocks[1:]:\n",
    "            text_parts.append(get_node_text(text_part))\n",
    "        result.append({'rating': rating, 'text': '\\n'.join(text_parts)})\n",
    "    \n",
    "    return result\n",
    "        \n",
    "\n",
    "rating_data = []\n",
    "for page in pages:\n",
    "    rating_data.extend(get_market_page_reviews(page))\n",
    "rating_data = pd.DataFrame(rating_data)"
   ]
  },
  {
   "cell_type": "code",
   "execution_count": 18,
   "metadata": {},
   "outputs": [
    {
     "data": {
      "text/plain": [
       "1    284\n",
       "4     38\n",
       "2      8\n",
       "5      6\n",
       "3      2\n",
       "Name: rating, dtype: int64"
      ]
     },
     "execution_count": 18,
     "metadata": {},
     "output_type": "execute_result"
    }
   ],
   "source": [
    "rating_data.rating.value_counts()"
   ]
  },
  {
   "cell_type": "code",
   "execution_count": 21,
   "metadata": {},
   "outputs": [
    {
     "data": {
      "text/plain": [
       "0    294\n",
       "1     44\n",
       "Name: positive, dtype: int64"
      ]
     },
     "execution_count": 21,
     "metadata": {},
     "output_type": "execute_result"
    }
   ],
   "source": [
    "rating_data['positive'] = 0\n",
    "rating_data.loc[rating_data.rating >= 4, 'positive'] = 1\n",
    "\n",
    "rating_data.positive.value_counts()"
   ]
  }
 ],
 "metadata": {
  "interpreter": {
   "hash": "1a0ca82fe72f7b6dcc59f88ce1601f3112cb58c024b4d57901a90c4fbc3fa1c5"
  },
  "kernelspec": {
   "display_name": "Python 3.8.8 64-bit ('base': conda)",
   "language": "python",
   "name": "python3"
  },
  "language_info": {
   "codemirror_mode": {
    "name": "ipython",
    "version": 3
   },
   "file_extension": ".py",
   "mimetype": "text/x-python",
   "name": "python",
   "nbconvert_exporter": "python",
   "pygments_lexer": "ipython3",
   "version": "3.8.8"
  },
  "orig_nbformat": 4
 },
 "nbformat": 4,
 "nbformat_minor": 2
}
