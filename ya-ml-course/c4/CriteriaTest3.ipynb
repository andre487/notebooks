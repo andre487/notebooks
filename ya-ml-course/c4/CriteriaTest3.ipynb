{
 "cells": [
  {
   "cell_type": "code",
   "execution_count": 35,
   "metadata": {},
   "outputs": [],
   "source": [
    "import itertools\n",
    "import numpy as np\n",
    "import pandas as pd\n",
    "from scipy import stats"
   ]
  },
  {
   "cell_type": "code",
   "execution_count": 3,
   "metadata": {},
   "outputs": [
    {
     "name": "stdout",
     "output_type": "stream",
     "text": [
      "\u001b[0;31mSignature:\u001b[0m\n",
      "\u001b[0mstats\u001b[0m\u001b[0;34m.\u001b[0m\u001b[0mwilcoxon\u001b[0m\u001b[0;34m(\u001b[0m\u001b[0;34m\u001b[0m\n",
      "\u001b[0;34m\u001b[0m    \u001b[0mx\u001b[0m\u001b[0;34m,\u001b[0m\u001b[0;34m\u001b[0m\n",
      "\u001b[0;34m\u001b[0m    \u001b[0my\u001b[0m\u001b[0;34m=\u001b[0m\u001b[0;32mNone\u001b[0m\u001b[0;34m,\u001b[0m\u001b[0;34m\u001b[0m\n",
      "\u001b[0;34m\u001b[0m    \u001b[0mzero_method\u001b[0m\u001b[0;34m=\u001b[0m\u001b[0;34m'wilcox'\u001b[0m\u001b[0;34m,\u001b[0m\u001b[0;34m\u001b[0m\n",
      "\u001b[0;34m\u001b[0m    \u001b[0mcorrection\u001b[0m\u001b[0;34m=\u001b[0m\u001b[0;32mFalse\u001b[0m\u001b[0;34m,\u001b[0m\u001b[0;34m\u001b[0m\n",
      "\u001b[0;34m\u001b[0m    \u001b[0malternative\u001b[0m\u001b[0;34m=\u001b[0m\u001b[0;34m'two-sided'\u001b[0m\u001b[0;34m,\u001b[0m\u001b[0;34m\u001b[0m\n",
      "\u001b[0;34m\u001b[0m    \u001b[0mmode\u001b[0m\u001b[0;34m=\u001b[0m\u001b[0;34m'auto'\u001b[0m\u001b[0;34m,\u001b[0m\u001b[0;34m\u001b[0m\n",
      "\u001b[0;34m\u001b[0m\u001b[0;34m)\u001b[0m\u001b[0;34m\u001b[0m\u001b[0;34m\u001b[0m\u001b[0m\n",
      "\u001b[0;31mDocstring:\u001b[0m\n",
      "Calculate the Wilcoxon signed-rank test.\n",
      "\n",
      "The Wilcoxon signed-rank test tests the null hypothesis that two\n",
      "related paired samples come from the same distribution. In particular,\n",
      "it tests whether the distribution of the differences x - y is symmetric\n",
      "about zero. It is a non-parametric version of the paired T-test.\n",
      "\n",
      "Parameters\n",
      "----------\n",
      "x : array_like\n",
      "    Either the first set of measurements (in which case ``y`` is the second\n",
      "    set of measurements), or the differences between two sets of\n",
      "    measurements (in which case ``y`` is not to be specified.)  Must be\n",
      "    one-dimensional.\n",
      "y : array_like, optional\n",
      "    Either the second set of measurements (if ``x`` is the first set of\n",
      "    measurements), or not specified (if ``x`` is the differences between\n",
      "    two sets of measurements.)  Must be one-dimensional.\n",
      "zero_method : {\"pratt\", \"wilcox\", \"zsplit\"}, optional\n",
      "    The following options are available (default is \"wilcox\"):\n",
      "\n",
      "      * \"pratt\": Includes zero-differences in the ranking process,\n",
      "        but drops the ranks of the zeros, see [4]_, (more conservative).\n",
      "      * \"wilcox\": Discards all zero-differences, the default.\n",
      "      * \"zsplit\": Includes zero-differences in the ranking process and\n",
      "        split the zero rank between positive and negative ones.\n",
      "correction : bool, optional\n",
      "    If True, apply continuity correction by adjusting the Wilcoxon rank\n",
      "    statistic by 0.5 towards the mean value when computing the\n",
      "    z-statistic if a normal approximation is used.  Default is False.\n",
      "alternative : {\"two-sided\", \"greater\", \"less\"}, optional\n",
      "    The alternative hypothesis to be tested, see Notes. Default is\n",
      "    \"two-sided\".\n",
      "mode : {\"auto\", \"exact\", \"approx\"}\n",
      "    Method to calculate the p-value, see Notes. Default is \"auto\".\n",
      "\n",
      "Returns\n",
      "-------\n",
      "statistic : float\n",
      "    If ``alternative`` is \"two-sided\", the sum of the ranks of the\n",
      "    differences above or below zero, whichever is smaller.\n",
      "    Otherwise the sum of the ranks of the differences above zero.\n",
      "pvalue : float\n",
      "    The p-value for the test depending on ``alternative`` and ``mode``.\n",
      "\n",
      "See Also\n",
      "--------\n",
      "kruskal, mannwhitneyu\n",
      "\n",
      "Notes\n",
      "-----\n",
      "The test has been introduced in [4]_. Given n independent samples\n",
      "(xi, yi) from a bivariate distribution (i.e. paired samples),\n",
      "it computes the differences di = xi - yi. One assumption of the test\n",
      "is that the differences are symmetric, see [2]_.\n",
      "The two-sided test has the null hypothesis that the median of the\n",
      "differences is zero against the alternative that it is different from\n",
      "zero. The one-sided test has the null hypothesis that the median is\n",
      "positive against the alternative that it is negative\n",
      "(``alternative == 'less'``), or vice versa (``alternative == 'greater.'``).\n",
      "\n",
      "To derive the p-value, the exact distribution (``mode == 'exact'``)\n",
      "can be used for sample sizes of up to 25. The default ``mode == 'auto'``\n",
      "uses the exact distribution if there are at most 25 observations and no\n",
      "ties, otherwise a normal approximation is used (``mode == 'approx'``).\n",
      "\n",
      "The treatment of ties can be controlled by the parameter `zero_method`.\n",
      "If ``zero_method == 'pratt'``, the normal approximation is adjusted as in\n",
      "[5]_. A typical rule is to require that n > 20 ([2]_, p. 383).\n",
      "\n",
      "References\n",
      "----------\n",
      ".. [1] https://en.wikipedia.org/wiki/Wilcoxon_signed-rank_test\n",
      ".. [2] Conover, W.J., Practical Nonparametric Statistics, 1971.\n",
      ".. [3] Pratt, J.W., Remarks on Zeros and Ties in the Wilcoxon Signed\n",
      "   Rank Procedures, Journal of the American Statistical Association,\n",
      "   Vol. 54, 1959, pp. 655-667. :doi:`10.1080/01621459.1959.10501526`\n",
      ".. [4] Wilcoxon, F., Individual Comparisons by Ranking Methods,\n",
      "   Biometrics Bulletin, Vol. 1, 1945, pp. 80-83. :doi:`10.2307/3001968`\n",
      ".. [5] Cureton, E.E., The Normal Approximation to the Signed-Rank\n",
      "   Sampling Distribution When Zero Differences are Present,\n",
      "   Journal of the American Statistical Association, Vol. 62, 1967,\n",
      "   pp. 1068-1069. :doi:`10.1080/01621459.1967.10500917`\n",
      "\n",
      "Examples\n",
      "--------\n",
      "In [4]_, the differences in height between cross- and self-fertilized\n",
      "corn plants is given as follows:\n",
      "\n",
      ">>> d = [6, 8, 14, 16, 23, 24, 28, 29, 41, -48, 49, 56, 60, -67, 75]\n",
      "\n",
      "Cross-fertilized plants appear to be be higher. To test the null\n",
      "hypothesis that there is no height difference, we can apply the\n",
      "two-sided test:\n",
      "\n",
      ">>> from scipy.stats import wilcoxon\n",
      ">>> w, p = wilcoxon(d)\n",
      ">>> w, p\n",
      "(24.0, 0.041259765625)\n",
      "\n",
      "Hence, we would reject the null hypothesis at a confidence level of 5%,\n",
      "concluding that there is a difference in height between the groups.\n",
      "To confirm that the median of the differences can be assumed to be\n",
      "positive, we use:\n",
      "\n",
      ">>> w, p = wilcoxon(d, alternative='greater')\n",
      ">>> w, p\n",
      "(96.0, 0.0206298828125)\n",
      "\n",
      "This shows that the null hypothesis that the median is negative can be\n",
      "rejected at a confidence level of 5% in favor of the alternative that\n",
      "the median is greater than zero. The p-values above are exact. Using the\n",
      "normal approximation gives very similar values:\n",
      "\n",
      ">>> w, p = wilcoxon(d, mode='approx')\n",
      ">>> w, p\n",
      "(24.0, 0.04088813291185591)\n",
      "\n",
      "Note that the statistic changed to 96 in the one-sided case (the sum\n",
      "of ranks of positive differences) whereas it is 24 in the two-sided\n",
      "case (the minimum of sum of ranks above and below zero).\n",
      "\u001b[0;31mFile:\u001b[0m      ~/anaconda3/lib/python3.8/site-packages/scipy/stats/morestats.py\n",
      "\u001b[0;31mType:\u001b[0m      function\n"
     ]
    }
   ],
   "source": [
    "stats.wilcoxon?"
   ]
  },
  {
   "cell_type": "code",
   "execution_count": 6,
   "metadata": {},
   "outputs": [
    {
     "data": {
      "text/plain": [
       "WilcoxonResult(statistic=17.0, pvalue=0.2845026979112075)"
      ]
     },
     "execution_count": 6,
     "metadata": {},
     "output_type": "execute_result"
    }
   ],
   "source": [
    "X = np.array([49,58,75,110,112,132,151,276,281,362])\n",
    "m0 = 200\n",
    "cancer_result = stats.wilcoxon(X - m0, mode='approx')\n",
    "cancer_result"
   ]
  },
  {
   "cell_type": "code",
   "execution_count": 7,
   "metadata": {},
   "outputs": [
    {
     "data": {
      "text/plain": [
       "0.2845"
      ]
     },
     "execution_count": 7,
     "metadata": {},
     "output_type": "execute_result"
    }
   ],
   "source": [
    "round(cancer_result.pvalue, 4)"
   ]
  },
  {
   "cell_type": "code",
   "execution_count": 11,
   "metadata": {},
   "outputs": [
    {
     "data": {
      "text/plain": [
       "MannwhitneyuResult(statistic=81.0, pvalue=0.02900499272087373)"
      ]
     },
     "execution_count": 11,
     "metadata": {},
     "output_type": "execute_result"
    }
   ],
   "source": [
    "cut_forest = np.array([22,22,15,13,19,19,18,20,21,13,13,15])\n",
    "non_cut_forest = np.array([17,18,18,15,12,4,14,15,10])\n",
    "forest_res = stats.mannwhitneyu(cut_forest, non_cut_forest, alternative='greater')\n",
    "forest_res"
   ]
  },
  {
   "cell_type": "code",
   "execution_count": 12,
   "metadata": {},
   "outputs": [
    {
     "data": {
      "text/plain": [
       "0.029"
      ]
     },
     "execution_count": 12,
     "metadata": {},
     "output_type": "execute_result"
    }
   ],
   "source": [
    "round(forest_res.pvalue, 4)"
   ]
  },
  {
   "cell_type": "code",
   "execution_count": 13,
   "metadata": {},
   "outputs": [
    {
     "name": "stdout",
     "output_type": "stream",
     "text": [
      "\tTemperature\tIncident\n",
      "\n"
     ]
    }
   ],
   "source": [
    "with open('challenger.txt') as fp:\n",
    "    print(fp.readline())"
   ]
  },
  {
   "cell_type": "code",
   "execution_count": 14,
   "metadata": {},
   "outputs": [],
   "source": [
    "challenger_data = []\n",
    "with open('challenger.txt') as fp:\n",
    "    fp.readline()\n",
    "    for line in fp:\n",
    "        data = line.strip().split('\\t')\n",
    "        if not data:\n",
    "            continue\n",
    "        challenger_data.append(dict(\n",
    "            date=data[0],\n",
    "            t=float(data[1]),\n",
    "            incident=int(data[2]),\n",
    "        ))\n",
    "challenger_data = pd.DataFrame(challenger_data)"
   ]
  },
  {
   "cell_type": "code",
   "execution_count": 15,
   "metadata": {},
   "outputs": [
    {
     "data": {
      "text/html": [
       "<div>\n",
       "<style scoped>\n",
       "    .dataframe tbody tr th:only-of-type {\n",
       "        vertical-align: middle;\n",
       "    }\n",
       "\n",
       "    .dataframe tbody tr th {\n",
       "        vertical-align: top;\n",
       "    }\n",
       "\n",
       "    .dataframe thead th {\n",
       "        text-align: right;\n",
       "    }\n",
       "</style>\n",
       "<table border=\"1\" class=\"dataframe\">\n",
       "  <thead>\n",
       "    <tr style=\"text-align: right;\">\n",
       "      <th></th>\n",
       "      <th>date</th>\n",
       "      <th>t</th>\n",
       "      <th>incident</th>\n",
       "    </tr>\n",
       "  </thead>\n",
       "  <tbody>\n",
       "    <tr>\n",
       "      <th>0</th>\n",
       "      <td>Apr12.81</td>\n",
       "      <td>18.9</td>\n",
       "      <td>0</td>\n",
       "    </tr>\n",
       "    <tr>\n",
       "      <th>1</th>\n",
       "      <td>Nov12.81</td>\n",
       "      <td>21.1</td>\n",
       "      <td>1</td>\n",
       "    </tr>\n",
       "    <tr>\n",
       "      <th>2</th>\n",
       "      <td>Mar22.82</td>\n",
       "      <td>20.6</td>\n",
       "      <td>0</td>\n",
       "    </tr>\n",
       "    <tr>\n",
       "      <th>3</th>\n",
       "      <td>Nov11.82</td>\n",
       "      <td>20.0</td>\n",
       "      <td>0</td>\n",
       "    </tr>\n",
       "    <tr>\n",
       "      <th>4</th>\n",
       "      <td>Apr04.83</td>\n",
       "      <td>19.4</td>\n",
       "      <td>0</td>\n",
       "    </tr>\n",
       "  </tbody>\n",
       "</table>\n",
       "</div>"
      ],
      "text/plain": [
       "       date     t  incident\n",
       "0  Apr12.81  18.9         0\n",
       "1  Nov12.81  21.1         1\n",
       "2  Mar22.82  20.6         0\n",
       "3  Nov11.82  20.0         0\n",
       "4  Apr04.83  19.4         0"
      ]
     },
     "execution_count": 15,
     "metadata": {},
     "output_type": "execute_result"
    }
   ],
   "source": [
    "challenger_data.head()"
   ]
  },
  {
   "cell_type": "code",
   "execution_count": 16,
   "metadata": {},
   "outputs": [],
   "source": [
    "def get_bootstrap_samples(data, n_samples):\n",
    "    indices = np.random.randint(0, len(data), (n_samples, len(data)))\n",
    "    samples = data[indices]\n",
    "    return samples\n",
    "\n",
    "\n",
    "def stat_intervals(stat, alpha):\n",
    "    boundaries = np.percentile(stat, [100 * alpha / 2., 100 * (1 - alpha / 2.)])\n",
    "    return boundaries"
   ]
  },
  {
   "cell_type": "code",
   "execution_count": 19,
   "metadata": {},
   "outputs": [],
   "source": [
    "np.random.seed(0)\n",
    "challenger_no_incident_samples = get_bootstrap_samples(challenger_data[challenger_data.incident == 0].t.values, 1000)\n",
    "challenger_incident_samples = get_bootstrap_samples(challenger_data[challenger_data.incident == 1].t.values, 1000)"
   ]
  },
  {
   "cell_type": "code",
   "execution_count": 25,
   "metadata": {},
   "outputs": [],
   "source": [
    "challenger_no_incident_means = np.array([np.mean(x) for x in challenger_no_incident_samples])\n",
    "challenger_incident_means = np.array([np.mean(x) for x in challenger_incident_samples])\n",
    "challenger_mean_diffs = challenger_no_incident_means - challenger_incident_means"
   ]
  },
  {
   "cell_type": "code",
   "execution_count": 30,
   "metadata": {},
   "outputs": [
    {
     "data": {
      "text/plain": [
       "array([1.42299107, 7.93861607])"
      ]
     },
     "execution_count": 30,
     "metadata": {},
     "output_type": "execute_result"
    }
   ],
   "source": [
    "challenger_interval = stat_intervals(challenger_mean_diffs, 0.05)\n",
    "challenger_interval"
   ]
  },
  {
   "cell_type": "code",
   "execution_count": 31,
   "metadata": {},
   "outputs": [
    {
     "data": {
      "text/plain": [
       "1.423"
      ]
     },
     "execution_count": 31,
     "metadata": {},
     "output_type": "execute_result"
    }
   ],
   "source": [
    "round(challenger_interval[0], 4)"
   ]
  },
  {
   "cell_type": "code",
   "execution_count": 43,
   "metadata": {},
   "outputs": [],
   "source": [
    "def permutation_t_stat_ind(sample1, sample2):\n",
    "    return np.mean(sample1) - np.mean(sample2)\n",
    "\n",
    "\n",
    "def get_random_combinations(n1, n2, max_combinations):\n",
    "    index = list(range(n1 + n2))\n",
    "    indices = set([tuple(index)])\n",
    "    for i in range(max_combinations - 1):\n",
    "        np.random.shuffle(index)\n",
    "        indices.add(tuple(index))\n",
    "    return [(index[:n1], index[n1:]) for index in indices]\n",
    "\n",
    "\n",
    "def permutation_zero_dist_ind(sample1, sample2, max_combinations = None):\n",
    "    joined_sample = np.hstack((sample1, sample2))\n",
    "    n1 = len(sample1)\n",
    "    n = len(joined_sample)\n",
    "    \n",
    "    if max_combinations:\n",
    "        indices = get_random_combinations(n1, len(sample2), max_combinations)\n",
    "    else:\n",
    "        indices = [(list(index), filter(lambda i: i not in index, range(n))) \\\n",
    "                    for index in itertools.combinations(range(n), n1)]\n",
    "    \n",
    "    distr = [joined_sample[list(i[0])].mean() - joined_sample[list(i[1])].mean() \\\n",
    "             for i in indices]\n",
    "    return distr\n",
    "\n",
    "\n",
    "def permutation_test(sample, mean, max_permutations = None, alternative = 'two-sided'):\n",
    "    if alternative not in ('two-sided', 'less', 'greater'):\n",
    "        raise ValueError(\"alternative not recognized\\n\"\n",
    "                         \"should be 'two-sided', 'less' or 'greater'\")\n",
    "    \n",
    "    t_stat = permutation_t_stat_ind(sample, mean)\n",
    "    \n",
    "    zero_distr = permutation_zero_dist_ind(sample, mean, max_permutations)\n",
    "    \n",
    "    if alternative == 'two-sided':\n",
    "        return sum([1. if abs(x) >= abs(t_stat) else 0. for x in zero_distr]) / len(zero_distr)\n",
    "    \n",
    "    if alternative == 'less':\n",
    "        return sum([1. if x <= t_stat else 0. for x in zero_distr]) / len(zero_distr)\n",
    "\n",
    "    if alternative == 'greater':\n",
    "        return sum([1. if x >= t_stat else 0. for x in zero_distr]) / len(zero_distr)"
   ]
  },
  {
   "cell_type": "code",
   "execution_count": 49,
   "metadata": {},
   "outputs": [
    {
     "data": {
      "text/plain": [
       "0.007"
      ]
     },
     "execution_count": 49,
     "metadata": {},
     "output_type": "execute_result"
    }
   ],
   "source": [
    "np.random.seed(0)\n",
    "permutation_test(\n",
    "    challenger_data[challenger_data.incident == 0].t.values, \n",
    "    challenger_data[challenger_data.incident == 1].t.values, \n",
    "    10000, alternative='two-sided'\n",
    ")"
   ]
  },
  {
   "cell_type": "code",
   "execution_count": null,
   "metadata": {},
   "outputs": [],
   "source": []
  }
 ],
 "metadata": {
  "interpreter": {
   "hash": "1a0ca82fe72f7b6dcc59f88ce1601f3112cb58c024b4d57901a90c4fbc3fa1c5"
  },
  "kernelspec": {
   "display_name": "Python 3.8.8 64-bit ('base': conda)",
   "name": "python3"
  },
  "language_info": {
   "codemirror_mode": {
    "name": "ipython",
    "version": 3
   },
   "file_extension": ".py",
   "mimetype": "text/x-python",
   "name": "python",
   "nbconvert_exporter": "python",
   "pygments_lexer": "ipython3",
   "version": "3.8.8"
  },
  "orig_nbformat": 4
 },
 "nbformat": 4,
 "nbformat_minor": 2
}
