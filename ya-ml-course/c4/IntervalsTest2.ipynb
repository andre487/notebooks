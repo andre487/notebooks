{
 "cells": [
  {
   "cell_type": "code",
   "execution_count": 1,
   "metadata": {},
   "outputs": [],
   "source": [
    "import numpy as np\n",
    "from statsmodels.stats.proportion import proportion_confint\n",
    "from statsmodels.stats.proportion import samplesize_confint_proportion\n",
    "from matplotlib import pylab as plt"
   ]
  },
  {
   "cell_type": "code",
   "execution_count": 6,
   "metadata": {},
   "outputs": [
    {
     "name": "stdout",
     "output_type": "stream",
     "text": [
      "\u001b[0;31mSignature:\u001b[0m \u001b[0mproportion_confint\u001b[0m\u001b[0;34m(\u001b[0m\u001b[0mcount\u001b[0m\u001b[0;34m,\u001b[0m \u001b[0mnobs\u001b[0m\u001b[0;34m,\u001b[0m \u001b[0malpha\u001b[0m\u001b[0;34m=\u001b[0m\u001b[0;36m0.05\u001b[0m\u001b[0;34m,\u001b[0m \u001b[0mmethod\u001b[0m\u001b[0;34m=\u001b[0m\u001b[0;34m'normal'\u001b[0m\u001b[0;34m)\u001b[0m\u001b[0;34m\u001b[0m\u001b[0;34m\u001b[0m\u001b[0m\n",
      "\u001b[0;31mDocstring:\u001b[0m\n",
      "confidence interval for a binomial proportion\n",
      "\n",
      "Parameters\n",
      "----------\n",
      "count : int or array_array_like\n",
      "    number of successes, can be pandas Series or DataFrame\n",
      "nobs : int\n",
      "    total number of trials\n",
      "alpha : float in (0, 1)\n",
      "    significance level, default 0.05\n",
      "method : {'normal', 'agresti_coull', 'beta', 'wilson', 'binom_test'}\n",
      "    default: 'normal'\n",
      "    method to use for confidence interval,\n",
      "    currently available methods :\n",
      "\n",
      "     - `normal` : asymptotic normal approximation\n",
      "     - `agresti_coull` : Agresti-Coull interval\n",
      "     - `beta` : Clopper-Pearson interval based on Beta distribution\n",
      "     - `wilson` : Wilson Score interval\n",
      "     - `jeffreys` : Jeffreys Bayesian Interval\n",
      "     - `binom_test` : experimental, inversion of binom_test\n",
      "\n",
      "Returns\n",
      "-------\n",
      "ci_low, ci_upp : float, ndarray, or pandas Series or DataFrame\n",
      "    lower and upper confidence level with coverage (approximately) 1-alpha.\n",
      "    When a pandas object is returned, then the index is taken from the\n",
      "    `count`.\n",
      "\n",
      "Notes\n",
      "-----\n",
      "Beta, the Clopper-Pearson exact interval has coverage at least 1-alpha,\n",
      "but is in general conservative. Most of the other methods have average\n",
      "coverage equal to 1-alpha, but will have smaller coverage in some cases.\n",
      "\n",
      "The 'beta' and 'jeffreys' interval are central, they use alpha/2 in each\n",
      "tail, and alpha is not adjusted at the boundaries. In the extreme case\n",
      "when `count` is zero or equal to `nobs`, then the coverage will be only\n",
      "1 - alpha/2 in the case of 'beta'.\n",
      "\n",
      "The confidence intervals are clipped to be in the [0, 1] interval in the\n",
      "case of 'normal' and 'agresti_coull'.\n",
      "\n",
      "Method \"binom_test\" directly inverts the binomial test in scipy.stats.\n",
      "which has discrete steps.\n",
      "\n",
      "TODO: binom_test intervals raise an exception in small samples if one\n",
      "   interval bound is close to zero or one.\n",
      "\n",
      "References\n",
      "----------\n",
      "https://en.wikipedia.org/wiki/Binomial_proportion_confidence_interval\n",
      "\n",
      "Brown, Lawrence D.; Cai, T. Tony; DasGupta, Anirban (2001). \"Interval\n",
      "    Estimation for a Binomial Proportion\",\n",
      "    Statistical Science 16 (2): 101–133. doi:10.1214/ss/1009213286.\n",
      "\u001b[0;31mFile:\u001b[0m      ~/anaconda3/lib/python3.8/site-packages/statsmodels/stats/proportion.py\n",
      "\u001b[0;31mType:\u001b[0m      function\n"
     ]
    }
   ],
   "source": [
    "proportion_confint?"
   ]
  },
  {
   "cell_type": "code",
   "execution_count": 11,
   "metadata": {},
   "outputs": [
    {
     "name": "stdout",
     "output_type": "stream",
     "text": [
      "\u001b[0;31mSignature:\u001b[0m\n",
      "\u001b[0msamplesize_confint_proportion\u001b[0m\u001b[0;34m(\u001b[0m\u001b[0;34m\u001b[0m\n",
      "\u001b[0;34m\u001b[0m    \u001b[0mproportion\u001b[0m\u001b[0;34m,\u001b[0m\u001b[0;34m\u001b[0m\n",
      "\u001b[0;34m\u001b[0m    \u001b[0mhalf_length\u001b[0m\u001b[0;34m,\u001b[0m\u001b[0;34m\u001b[0m\n",
      "\u001b[0;34m\u001b[0m    \u001b[0malpha\u001b[0m\u001b[0;34m=\u001b[0m\u001b[0;36m0.05\u001b[0m\u001b[0;34m,\u001b[0m\u001b[0;34m\u001b[0m\n",
      "\u001b[0;34m\u001b[0m    \u001b[0mmethod\u001b[0m\u001b[0;34m=\u001b[0m\u001b[0;34m'normal'\u001b[0m\u001b[0;34m,\u001b[0m\u001b[0;34m\u001b[0m\n",
      "\u001b[0;34m\u001b[0m\u001b[0;34m)\u001b[0m\u001b[0;34m\u001b[0m\u001b[0;34m\u001b[0m\u001b[0m\n",
      "\u001b[0;31mDocstring:\u001b[0m\n",
      "find sample size to get desired confidence interval length\n",
      "\n",
      "Parameters\n",
      "----------\n",
      "proportion : float in (0, 1)\n",
      "    proportion or quantile\n",
      "half_length : float in (0, 1)\n",
      "    desired half length of the confidence interval\n",
      "alpha : float in (0, 1)\n",
      "    significance level, default 0.05,\n",
      "    coverage of the two-sided interval is (approximately) ``1 - alpha``\n",
      "method : str in ['normal']\n",
      "    method to use for confidence interval,\n",
      "    currently only normal approximation\n",
      "\n",
      "Returns\n",
      "-------\n",
      "n : float\n",
      "    sample size to get the desired half length of the confidence interval\n",
      "\n",
      "Notes\n",
      "-----\n",
      "this is mainly to store the formula.\n",
      "possible application: number of replications in bootstrap samples\n",
      "\u001b[0;31mFile:\u001b[0m      ~/anaconda3/lib/python3.8/site-packages/statsmodels/stats/proportion.py\n",
      "\u001b[0;31mType:\u001b[0m      function\n"
     ]
    }
   ],
   "source": [
    "samplesize_confint_proportion?"
   ]
  },
  {
   "cell_type": "code",
   "execution_count": 9,
   "metadata": {},
   "outputs": [
    {
     "data": {
      "text/plain": [
       "(0.0, 0.05880530708179099)"
      ]
     },
     "execution_count": 9,
     "metadata": {},
     "output_type": "execute_result"
    }
   ],
   "source": [
    "proportion_confint(1, 50, method = 'normal', alpha=0.05)"
   ]
  },
  {
   "cell_type": "code",
   "execution_count": 3,
   "metadata": {},
   "outputs": [
    {
     "data": {
      "text/plain": [
       "(0.003539259271646236, 0.10495443589637815)"
      ]
     },
     "execution_count": 3,
     "metadata": {},
     "output_type": "execute_result"
    }
   ],
   "source": [
    "proportion_confint(1, 50, method = 'wilson', alpha=0.05)"
   ]
  },
  {
   "cell_type": "code",
   "execution_count": 10,
   "metadata": {},
   "outputs": [
    {
     "data": {
      "text/plain": [
       "752.9259288560489"
      ]
     },
     "execution_count": 10,
     "metadata": {},
     "output_type": "execute_result"
    }
   ],
   "source": [
    "samplesize_confint_proportion(1 / 50, 0.01, method='normal')"
   ]
  },
  {
   "cell_type": "code",
   "execution_count": 11,
   "metadata": {},
   "outputs": [],
   "source": [
    "X = []\n",
    "Y = []\n",
    "for i in range(1001):\n",
    "    x = i / 1000\n",
    "    X.append(x)\n",
    "    Y.append(samplesize_confint_proportion(x, 0.01, method='normal'))"
   ]
  },
  {
   "cell_type": "code",
   "execution_count": 12,
   "metadata": {},
   "outputs": [
    {
     "data": {
      "text/plain": [
       "<matplotlib.collections.PathCollection at 0x7fc3e5831220>"
      ]
     },
     "execution_count": 12,
     "metadata": {},
     "output_type": "execute_result"
    },
    {
     "data": {
      "image/png": "[encoded data removed]",
      "text/plain": [
       "<Figure size 432x288 with 1 Axes>"
      ]
     },
     "metadata": {
      "needs_background": "light"
     },
     "output_type": "display_data"
    }
   ],
   "source": [
    "plt.scatter(X, Y)"
   ]
  },
  {
   "cell_type": "code",
   "execution_count": 13,
   "metadata": {},
   "outputs": [
    {
     "data": {
      "text/plain": [
       "9603.647051735317"
      ]
     },
     "execution_count": 13,
     "metadata": {},
     "output_type": "execute_result"
    }
   ],
   "source": [
    "samplesize_confint_proportion(0.5, 0.01, method='normal')"
   ]
  }
 ],
 "metadata": {
  "interpreter": {
   "hash": "1a0ca82fe72f7b6dcc59f88ce1601f3112cb58c024b4d57901a90c4fbc3fa1c5"
  },
  "kernelspec": {
   "display_name": "Python 3.8.8 64-bit ('base': conda)",
   "name": "python3"
  },
  "language_info": {
   "codemirror_mode": {
    "name": "ipython",
    "version": 3
   },
   "file_extension": ".py",
   "mimetype": "text/x-python",
   "name": "python",
   "nbconvert_exporter": "python",
   "pygments_lexer": "ipython3",
   "version": "3.8.8"
  },
  "orig_nbformat": 4
 },
 "nbformat": 4,
 "nbformat_minor": 2
}
