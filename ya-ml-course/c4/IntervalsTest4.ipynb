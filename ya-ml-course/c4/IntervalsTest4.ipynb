{
 "cells": [
  {
   "cell_type": "code",
   "execution_count": 1,
   "metadata": {},
   "outputs": [],
   "source": [
    "import numpy as np\n",
    "from scipy import stats"
   ]
  },
  {
   "cell_type": "code",
   "execution_count": 63,
   "metadata": {},
   "outputs": [
    {
     "data": {
      "text/plain": [
       "0.0822"
      ]
     },
     "execution_count": 63,
     "metadata": {},
     "output_type": "execute_result"
    }
   ],
   "source": [
    "res = stats.binomtest(67, 100, 0.75, alternative = 'two-sided')\n",
    "round(res.pvalue, 4)"
   ]
  },
  {
   "cell_type": "code",
   "execution_count": 59,
   "metadata": {},
   "outputs": [
    {
     "name": "stdout",
     "output_type": "stream",
     "text": [
      "\u001b[0;31mSignature:\u001b[0m \u001b[0mstats\u001b[0m\u001b[0;34m.\u001b[0m\u001b[0mbinomtest\u001b[0m\u001b[0;34m(\u001b[0m\u001b[0mk\u001b[0m\u001b[0;34m,\u001b[0m \u001b[0mn\u001b[0m\u001b[0;34m,\u001b[0m \u001b[0mp\u001b[0m\u001b[0;34m=\u001b[0m\u001b[0;36m0.5\u001b[0m\u001b[0;34m,\u001b[0m \u001b[0malternative\u001b[0m\u001b[0;34m=\u001b[0m\u001b[0;34m'two-sided'\u001b[0m\u001b[0;34m)\u001b[0m\u001b[0;34m\u001b[0m\u001b[0;34m\u001b[0m\u001b[0m\n",
      "\u001b[0;31mDocstring:\u001b[0m\n",
      "Perform a test that the probability of success is p.\n",
      "\n",
      "The binomial test [1]_ is a test of the null hypothesis that the\n",
      "probability of success in a Bernoulli experiment is `p`.\n",
      "\n",
      "Details of the test can be found in many texts on statistics, such\n",
      "as section 24.5 of [2]_.\n",
      "\n",
      "Parameters\n",
      "----------\n",
      "k : int\n",
      "    The number of successes.\n",
      "n : int\n",
      "    The number of trials.\n",
      "p : float, optional\n",
      "    The hypothesized probability of success, i.e. the expected\n",
      "    proportion of successes.  The value must be in the interval\n",
      "    ``0 <= p <= 1``. The default value is ``p = 0.5``.\n",
      "alternative : {'two-sided', 'greater', 'less'}, optional\n",
      "    Indicates the alternative hypothesis. The default value is\n",
      "    'two-sided'.\n",
      "\n",
      "Returns\n",
      "-------\n",
      "result : `~scipy.stats._result_classes.BinomTestResult` instance\n",
      "    The return value is an object with the following attributes:\n",
      "\n",
      "    k : int\n",
      "        The number of successes (copied from `binomtest` input).\n",
      "    n : int\n",
      "        The number of trials (copied from `binomtest` input).\n",
      "    alternative : str\n",
      "        Indicates the alternative hypothesis specified in the input\n",
      "        to `binomtest`.  It will be one of ``'two-sided'``, ``'greater'``,\n",
      "        or ``'less'``.\n",
      "    pvalue : float\n",
      "        The p-value of the hypothesis test.\n",
      "    proportion_estimate : float\n",
      "        The estimate of the proportion of successes.\n",
      "\n",
      "    The object has the following methods:\n",
      "\n",
      "    proportion_ci(confidence_level=0.95, method='exact') :\n",
      "        Compute the confidence interval for ``proportion_estimate``.\n",
      "\n",
      "Notes\n",
      "-----\n",
      ".. versionadded:: 1.7.0\n",
      "\n",
      "References\n",
      "----------\n",
      ".. [1] Binomial test, https://en.wikipedia.org/wiki/Binomial_test\n",
      ".. [2] Jerrold H. Zar, Biostatistical Analysis (fifth edition),\n",
      "       Prentice Hall, Upper Saddle River, New Jersey USA (2010)\n",
      "\n",
      "Examples\n",
      "--------\n",
      ">>> from scipy.stats import binomtest\n",
      "\n",
      "A car manufacturer claims that no more than 10% of their cars are unsafe.\n",
      "15 cars are inspected for safety, 3 were found to be unsafe. Test the\n",
      "manufacturer's claim:\n",
      "\n",
      ">>> result = binomtest(3, n=15, p=0.1, alternative='greater')\n",
      ">>> result.pvalue\n",
      "0.18406106910639114\n",
      "\n",
      "The null hypothesis cannot be rejected at the 5% level of significance\n",
      "because the returned p-value is greater than the critical value of 5%.\n",
      "\n",
      "The estimated proportion is simply ``3/15``:\n",
      "\n",
      ">>> result.proportion_estimate\n",
      "0.2\n",
      "\n",
      "We can use the `proportion_ci()` method of the result to compute the\n",
      "confidence interval of the estimate:\n",
      "\n",
      ">>> result.proportion_ci(confidence_level=0.95)\n",
      "ConfidenceInterval(low=0.05684686759024681, high=1.0)\n",
      "\u001b[0;31mFile:\u001b[0m      ~/anaconda3/lib/python3.8/site-packages/scipy/stats/_binomtest.py\n",
      "\u001b[0;31mType:\u001b[0m      function\n"
     ]
    }
   ],
   "source": [
    "stats.binomtest?"
   ]
  },
  {
   "cell_type": "code",
   "execution_count": 14,
   "metadata": {},
   "outputs": [
    {
     "name": "stdout",
     "output_type": "stream",
     "text": [
      "sn\twe\n",
      "\n"
     ]
    }
   ],
   "source": [
    "pines_data = []\n",
    "with open('pines.txt') as fp:\n",
    "    print(fp.readline())\n",
    "    for line in fp:\n",
    "        data = line.strip().split('\\t')\n",
    "        if not data:\n",
    "            continue\n",
    "        sn, we = float(data[0]), float(data[1])\n",
    "        pines_data.append((sn, we))\n",
    "pines_data = np.array(pines_data)"
   ]
  },
  {
   "cell_type": "code",
   "execution_count": 23,
   "metadata": {},
   "outputs": [
    {
     "data": {
      "text/plain": [
       "array([[200. ,   8.8],\n",
       "       [199.3,  10. ],\n",
       "       [193.6,  22.4],\n",
       "       ...,\n",
       "       [156.7, 155.3],\n",
       "       [154.1, 150.8],\n",
       "       [ 87.7, 200. ]])"
      ]
     },
     "execution_count": 23,
     "metadata": {},
     "output_type": "execute_result"
    }
   ],
   "source": [
    "pines_data"
   ]
  },
  {
   "cell_type": "code",
   "execution_count": 28,
   "metadata": {},
   "outputs": [
    {
     "data": {
      "text/plain": [
       "0.0"
      ]
     },
     "execution_count": 28,
     "metadata": {},
     "output_type": "execute_result"
    }
   ],
   "source": [
    "min(pines_data[:, 0])"
   ]
  },
  {
   "cell_type": "code",
   "execution_count": 29,
   "metadata": {},
   "outputs": [
    {
     "data": {
      "text/plain": [
       "200.0"
      ]
     },
     "execution_count": 29,
     "metadata": {},
     "output_type": "execute_result"
    }
   ],
   "source": [
    "max(pines_data[:, 0])"
   ]
  },
  {
   "cell_type": "code",
   "execution_count": 30,
   "metadata": {},
   "outputs": [
    {
     "data": {
      "text/plain": [
       "0.0"
      ]
     },
     "execution_count": 30,
     "metadata": {},
     "output_type": "execute_result"
    }
   ],
   "source": [
    "min(pines_data[:, 1])"
   ]
  },
  {
   "cell_type": "code",
   "execution_count": 31,
   "metadata": {},
   "outputs": [
    {
     "data": {
      "text/plain": [
       "200.0"
      ]
     },
     "execution_count": 31,
     "metadata": {},
     "output_type": "execute_result"
    }
   ],
   "source": [
    "max(pines_data[:, 1])"
   ]
  },
  {
   "cell_type": "code",
   "execution_count": 32,
   "metadata": {},
   "outputs": [],
   "source": [
    "bins_x = [x for x in range(0, 201, 40)]\n",
    "bins_y = bins_x[:]"
   ]
  },
  {
   "cell_type": "code",
   "execution_count": 33,
   "metadata": {},
   "outputs": [
    {
     "data": {
      "text/plain": [
       "[0, 40, 80, 120, 160, 200]"
      ]
     },
     "execution_count": 33,
     "metadata": {},
     "output_type": "execute_result"
    }
   ],
   "source": [
    "bins_x"
   ]
  },
  {
   "cell_type": "code",
   "execution_count": 34,
   "metadata": {},
   "outputs": [
    {
     "data": {
      "text/plain": [
       "[0, 40, 80, 120, 160, 200]"
      ]
     },
     "execution_count": 34,
     "metadata": {},
     "output_type": "execute_result"
    }
   ],
   "source": [
    "bins_y"
   ]
  },
  {
   "cell_type": "code",
   "execution_count": 42,
   "metadata": {},
   "outputs": [
    {
     "data": {
      "text/plain": [
       "BinnedStatistic2dResult(statistic=array([[18., 26., 29., 25., 20.],\n",
       "       [14., 12., 22., 34., 25.],\n",
       "       [12., 24., 15., 50., 37.],\n",
       "       [ 8., 19., 31., 50.,  7.],\n",
       "       [ 7.,  8., 37., 27., 27.]]), x_edge=array([  0.,  40.,  80., 120., 160., 200.]), y_edge=array([  0.,  40.,  80., 120., 160., 200.]), binnumber=array([36, 36, 36, 36, 37, 37, 37, 37, 36, 36, 36, 29, 30, 29, 30, 29, 29,\n",
       "       29, 29, 29, 22, 22, 22, 22, 22, 29, 30, 30, 23, 23, 22,  8,  8,  8,\n",
       "        8,  8,  8,  8, 15, 15,  8, 15, 15,  9,  9,  9,  9,  9,  9,  9,  9,\n",
       "        8,  8,  9,  9,  9,  8,  8,  8,  8,  9,  9, 16, 16, 17, 16, 17, 17,\n",
       "       17,  9,  9,  9,  9, 10, 10, 10, 10, 10, 10, 17, 17, 10, 10, 10, 10,\n",
       "       10, 10, 10, 24, 24, 23, 23, 23, 23, 24, 23, 23, 23, 23, 23, 23, 23,\n",
       "       23, 23, 23, 30, 23, 23, 23, 23, 30, 30, 23, 23, 30, 30, 31, 30, 30,\n",
       "       30, 22, 22, 22, 15, 22, 22, 22, 15, 15, 16, 16, 15, 15, 15, 15, 15,\n",
       "       15, 15, 38, 38, 38, 38, 38, 38, 38, 38, 38, 38, 38, 38,  8,  8,  8,\n",
       "        8,  9,  9, 10, 10, 10,  9,  9,  9,  9, 10,  9,  9,  9, 10, 39, 39,\n",
       "       39, 39, 39, 39, 39, 38, 38, 39, 38, 39, 24, 17, 17, 17, 17, 17, 17,\n",
       "       17, 17, 16, 16, 16, 16, 16, 16, 16, 23, 23, 32, 32, 32, 32, 32, 31,\n",
       "       31, 32, 32, 32, 31, 32, 30, 30, 30, 31, 31, 31, 31, 31, 31, 31, 31,\n",
       "       38, 38, 38, 38, 38, 38, 38, 25, 25, 25, 25, 32, 32, 32, 25, 25, 32,\n",
       "       32, 32, 38, 38, 38, 38, 38, 38, 38, 38, 38, 38, 38, 38, 38, 31, 31,\n",
       "       31, 31, 31, 37, 31, 31, 30, 30, 30, 37, 30, 37, 37, 38, 32, 32, 38,\n",
       "       31, 31, 31, 31, 32, 32, 39, 39, 39, 39, 32, 39, 39, 39, 32, 39, 39,\n",
       "       32, 32, 32, 32, 32, 32, 32, 32, 32, 32, 32, 32, 32, 31, 31, 24, 31,\n",
       "       31, 31, 31, 24, 24, 24, 25, 25, 25, 25, 25, 25, 24, 24, 25, 24, 25,\n",
       "       25, 25, 25, 25, 25, 25, 25, 25, 25, 25, 32, 32, 32, 25, 25, 18, 18,\n",
       "       18, 18, 18, 18, 18, 18, 25, 25, 25, 25, 25, 25, 25, 24, 24, 24, 25,\n",
       "       24, 25, 17, 17, 17, 17, 18, 32, 32, 39, 39, 39, 39, 39, 39, 18, 18,\n",
       "       18, 18, 18, 18, 18, 18, 18, 18, 17, 18, 11, 18, 11, 11, 11, 11, 17,\n",
       "       10, 10, 32, 32, 32, 32, 32, 31, 31, 32, 11, 12, 12, 11, 12, 12, 12,\n",
       "       12, 12, 12, 12, 12, 19, 12, 12, 12, 12, 12, 12, 12, 12, 25, 25, 25,\n",
       "       25, 25, 25, 25, 25, 26, 26, 26, 25, 26, 26, 26, 26, 25, 19, 19, 19,\n",
       "       19, 26, 19, 19, 26, 19, 19, 25, 18, 17, 18, 18, 17, 18, 18, 18, 18,\n",
       "       32, 33, 40, 40, 40, 40, 40, 40, 40, 40, 40, 40, 40, 40, 40, 40, 40,\n",
       "       40, 40, 40, 40, 10, 10, 10, 10, 10, 10, 11, 11, 11, 10, 10, 10, 11,\n",
       "       11, 11, 11, 11, 11, 11, 11, 11, 11, 11, 12, 12, 11, 11, 11, 18, 11,\n",
       "       19, 19, 19, 19, 19, 19, 19, 18, 19, 19, 19, 19, 19, 19, 19, 19, 26,\n",
       "       19, 26, 26, 26, 26, 26, 26, 26, 26, 25, 26, 26, 26, 18, 18, 18, 18,\n",
       "       25, 25, 26, 25, 26, 26, 26, 26, 26, 26, 26, 26, 26, 26, 26, 26, 26,\n",
       "       33, 33, 33, 26, 33, 32, 32, 33, 33, 40, 40, 40, 40, 40, 40, 39, 39,\n",
       "       40, 40, 39, 32, 32, 26]))"
      ]
     },
     "execution_count": 42,
     "metadata": {},
     "output_type": "execute_result"
    }
   ],
   "source": [
    "res = stats.binned_statistic_2d(pines_data[:, 0], pines_data[:, 1], None, 'count', bins=[bins_x, bins_y])\n",
    "res"
   ]
  },
  {
   "cell_type": "code",
   "execution_count": 39,
   "metadata": {},
   "outputs": [
    {
     "data": {
      "text/plain": [
       "23.36"
      ]
     },
     "execution_count": 39,
     "metadata": {},
     "output_type": "execute_result"
    }
   ],
   "source": [
    "expected = pines_data.shape[0] / ((len(bins_x) - 1) * (len(bins_y) - 1))\n",
    "expected"
   ]
  },
  {
   "cell_type": "code",
   "execution_count": null,
   "metadata": {},
   "outputs": [],
   "source": [
    "expected_freqs"
   ]
  },
  {
   "cell_type": "code",
   "execution_count": 54,
   "metadata": {},
   "outputs": [
    {
     "data": {
      "text/plain": [
       "array([18., 26., 29., 25., 20., 14., 12., 22., 34., 25., 12., 24., 15.,\n",
       "       50., 37.,  8., 19., 31., 50.,  7.,  7.,  8., 37., 27., 27.])"
      ]
     },
     "execution_count": 54,
     "metadata": {},
     "output_type": "execute_result"
    }
   ],
   "source": [
    "observed_freqs = res.statistic.reshape((res.statistic.shape[0] * res.statistic.shape[1],))\n",
    "observed_freqs"
   ]
  },
  {
   "cell_type": "code",
   "execution_count": 52,
   "metadata": {},
   "outputs": [
    {
     "data": {
      "text/plain": [
       "array([23.36, 23.36, 23.36, 23.36, 23.36, 23.36, 23.36, 23.36, 23.36,\n",
       "       23.36, 23.36, 23.36, 23.36, 23.36, 23.36, 23.36, 23.36, 23.36,\n",
       "       23.36, 23.36, 23.36, 23.36, 23.36, 23.36, 23.36])"
      ]
     },
     "execution_count": 52,
     "metadata": {},
     "output_type": "execute_result"
    }
   ],
   "source": [
    "expected_freqs = np.array([expected] * obserced_freqs.shape[0])\n",
    "expected_freqs"
   ]
  },
  {
   "cell_type": "code",
   "execution_count": 56,
   "metadata": {},
   "outputs": [
    {
     "data": {
      "text/plain": [
       "Power_divergenceResult(statistic=150.58904109589042, pvalue=9.87806178820889e-21)"
      ]
     },
     "execution_count": 56,
     "metadata": {},
     "output_type": "execute_result"
    }
   ],
   "source": [
    "res = stats.chisquare(observed_freqs, expected_freqs, ddof = 1)\n",
    "res"
   ]
  },
  {
   "cell_type": "code",
   "execution_count": 58,
   "metadata": {},
   "outputs": [
    {
     "data": {
      "text/plain": [
       "150.59"
      ]
     },
     "execution_count": 58,
     "metadata": {},
     "output_type": "execute_result"
    }
   ],
   "source": [
    "round(res.statistic, 2)"
   ]
  }
 ],
 "metadata": {
  "interpreter": {
   "hash": "1a0ca82fe72f7b6dcc59f88ce1601f3112cb58c024b4d57901a90c4fbc3fa1c5"
  },
  "kernelspec": {
   "display_name": "Python 3.8.8 64-bit ('base': conda)",
   "name": "python3"
  },
  "language_info": {
   "codemirror_mode": {
    "name": "ipython",
    "version": 3
   },
   "file_extension": ".py",
   "mimetype": "text/x-python",
   "name": "python",
   "nbconvert_exporter": "python",
   "pygments_lexer": "ipython3",
   "version": "3.8.8"
  },
  "orig_nbformat": 4
 },
 "nbformat": 4,
 "nbformat_minor": 2
}
