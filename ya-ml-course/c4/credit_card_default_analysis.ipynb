{
 "cells": [
  {
   "cell_type": "code",
   "execution_count": 1,
   "metadata": {},
   "outputs": [],
   "source": [
    "import numpy as np\n",
    "import pandas as pd\n",
    "from matplotlib import pyplot as plt\n",
    "from scipy import stats\n",
    "from statsmodels.stats.proportion import proportion_confint\n",
    "from texttable import Texttable"
   ]
  },
  {
   "cell_type": "markdown",
   "metadata": {},
   "source": [
    "# Загрузка данных"
   ]
  },
  {
   "cell_type": "code",
   "execution_count": 2,
   "metadata": {},
   "outputs": [],
   "source": [
    "data = pd.read_csv('credit_card_default_analysis.csv')"
   ]
  },
  {
   "cell_type": "code",
   "execution_count": 3,
   "metadata": {},
   "outputs": [
    {
     "data": {
      "text/html": [
       "<div>\n",
       "<style scoped>\n",
       "    .dataframe tbody tr th:only-of-type {\n",
       "        vertical-align: middle;\n",
       "    }\n",
       "\n",
       "    .dataframe tbody tr th {\n",
       "        vertical-align: top;\n",
       "    }\n",
       "\n",
       "    .dataframe thead th {\n",
       "        text-align: right;\n",
       "    }\n",
       "</style>\n",
       "<table border=\"1\" class=\"dataframe\">\n",
       "  <thead>\n",
       "    <tr style=\"text-align: right;\">\n",
       "      <th></th>\n",
       "      <th>ID</th>\n",
       "      <th>LIMIT_BAL</th>\n",
       "      <th>SEX</th>\n",
       "      <th>EDUCATION</th>\n",
       "      <th>MARRIAGE</th>\n",
       "      <th>AGE</th>\n",
       "      <th>PAY_0</th>\n",
       "      <th>PAY_2</th>\n",
       "      <th>PAY_3</th>\n",
       "      <th>PAY_4</th>\n",
       "      <th>...</th>\n",
       "      <th>BILL_AMT4</th>\n",
       "      <th>BILL_AMT5</th>\n",
       "      <th>BILL_AMT6</th>\n",
       "      <th>PAY_AMT1</th>\n",
       "      <th>PAY_AMT2</th>\n",
       "      <th>PAY_AMT3</th>\n",
       "      <th>PAY_AMT4</th>\n",
       "      <th>PAY_AMT5</th>\n",
       "      <th>PAY_AMT6</th>\n",
       "      <th>default</th>\n",
       "    </tr>\n",
       "  </thead>\n",
       "  <tbody>\n",
       "    <tr>\n",
       "      <th>0</th>\n",
       "      <td>1</td>\n",
       "      <td>20000</td>\n",
       "      <td>2</td>\n",
       "      <td>2</td>\n",
       "      <td>1</td>\n",
       "      <td>24</td>\n",
       "      <td>2</td>\n",
       "      <td>2</td>\n",
       "      <td>0</td>\n",
       "      <td>0</td>\n",
       "      <td>...</td>\n",
       "      <td>0</td>\n",
       "      <td>0</td>\n",
       "      <td>0</td>\n",
       "      <td>0</td>\n",
       "      <td>689</td>\n",
       "      <td>0</td>\n",
       "      <td>0</td>\n",
       "      <td>0</td>\n",
       "      <td>0</td>\n",
       "      <td>1</td>\n",
       "    </tr>\n",
       "    <tr>\n",
       "      <th>1</th>\n",
       "      <td>2</td>\n",
       "      <td>120000</td>\n",
       "      <td>2</td>\n",
       "      <td>2</td>\n",
       "      <td>2</td>\n",
       "      <td>26</td>\n",
       "      <td>0</td>\n",
       "      <td>2</td>\n",
       "      <td>0</td>\n",
       "      <td>0</td>\n",
       "      <td>...</td>\n",
       "      <td>3272</td>\n",
       "      <td>3455</td>\n",
       "      <td>3261</td>\n",
       "      <td>0</td>\n",
       "      <td>1000</td>\n",
       "      <td>1000</td>\n",
       "      <td>1000</td>\n",
       "      <td>0</td>\n",
       "      <td>2000</td>\n",
       "      <td>1</td>\n",
       "    </tr>\n",
       "    <tr>\n",
       "      <th>2</th>\n",
       "      <td>3</td>\n",
       "      <td>90000</td>\n",
       "      <td>2</td>\n",
       "      <td>2</td>\n",
       "      <td>2</td>\n",
       "      <td>34</td>\n",
       "      <td>0</td>\n",
       "      <td>0</td>\n",
       "      <td>0</td>\n",
       "      <td>0</td>\n",
       "      <td>...</td>\n",
       "      <td>14331</td>\n",
       "      <td>14948</td>\n",
       "      <td>15549</td>\n",
       "      <td>1518</td>\n",
       "      <td>1500</td>\n",
       "      <td>1000</td>\n",
       "      <td>1000</td>\n",
       "      <td>1000</td>\n",
       "      <td>5000</td>\n",
       "      <td>0</td>\n",
       "    </tr>\n",
       "    <tr>\n",
       "      <th>3</th>\n",
       "      <td>4</td>\n",
       "      <td>50000</td>\n",
       "      <td>2</td>\n",
       "      <td>2</td>\n",
       "      <td>1</td>\n",
       "      <td>37</td>\n",
       "      <td>0</td>\n",
       "      <td>0</td>\n",
       "      <td>0</td>\n",
       "      <td>0</td>\n",
       "      <td>...</td>\n",
       "      <td>28314</td>\n",
       "      <td>28959</td>\n",
       "      <td>29547</td>\n",
       "      <td>2000</td>\n",
       "      <td>2019</td>\n",
       "      <td>1200</td>\n",
       "      <td>1100</td>\n",
       "      <td>1069</td>\n",
       "      <td>1000</td>\n",
       "      <td>0</td>\n",
       "    </tr>\n",
       "    <tr>\n",
       "      <th>4</th>\n",
       "      <td>5</td>\n",
       "      <td>50000</td>\n",
       "      <td>1</td>\n",
       "      <td>2</td>\n",
       "      <td>1</td>\n",
       "      <td>57</td>\n",
       "      <td>0</td>\n",
       "      <td>0</td>\n",
       "      <td>0</td>\n",
       "      <td>0</td>\n",
       "      <td>...</td>\n",
       "      <td>20940</td>\n",
       "      <td>19146</td>\n",
       "      <td>19131</td>\n",
       "      <td>2000</td>\n",
       "      <td>36681</td>\n",
       "      <td>10000</td>\n",
       "      <td>9000</td>\n",
       "      <td>689</td>\n",
       "      <td>679</td>\n",
       "      <td>0</td>\n",
       "    </tr>\n",
       "  </tbody>\n",
       "</table>\n",
       "<p>5 rows × 25 columns</p>\n",
       "</div>"
      ],
      "text/plain": [
       "   ID  LIMIT_BAL  SEX  EDUCATION  MARRIAGE  AGE  PAY_0  PAY_2  PAY_3  PAY_4  \\\n",
       "0   1      20000    2          2         1   24      2      2      0      0   \n",
       "1   2     120000    2          2         2   26      0      2      0      0   \n",
       "2   3      90000    2          2         2   34      0      0      0      0   \n",
       "3   4      50000    2          2         1   37      0      0      0      0   \n",
       "4   5      50000    1          2         1   57      0      0      0      0   \n",
       "\n",
       "   ...  BILL_AMT4  BILL_AMT5  BILL_AMT6  PAY_AMT1  PAY_AMT2  PAY_AMT3  \\\n",
       "0  ...          0          0          0         0       689         0   \n",
       "1  ...       3272       3455       3261         0      1000      1000   \n",
       "2  ...      14331      14948      15549      1518      1500      1000   \n",
       "3  ...      28314      28959      29547      2000      2019      1200   \n",
       "4  ...      20940      19146      19131      2000     36681     10000   \n",
       "\n",
       "   PAY_AMT4  PAY_AMT5  PAY_AMT6  default  \n",
       "0         0         0         0        1  \n",
       "1      1000         0      2000        1  \n",
       "2      1000      1000      5000        0  \n",
       "3      1100      1069      1000        0  \n",
       "4      9000       689       679        0  \n",
       "\n",
       "[5 rows x 25 columns]"
      ]
     },
     "execution_count": 3,
     "metadata": {},
     "output_type": "execute_result"
    }
   ],
   "source": [
    "data.head()"
   ]
  },
  {
   "cell_type": "code",
   "execution_count": 4,
   "metadata": {},
   "outputs": [
    {
     "data": {
      "text/plain": [
       "(30000, 25)"
      ]
     },
     "execution_count": 4,
     "metadata": {},
     "output_type": "execute_result"
    }
   ],
   "source": [
    "data.shape"
   ]
  },
  {
   "cell_type": "markdown",
   "metadata": {},
   "source": [
    "# Задание 1. LIMIT_BAL\n",
    "\n",
    "**LIMIT_BAL:  размер кредитного лимита (в том числе и на семью клиента)**\n",
    "\n",
    "Размер кредитного лимита (LIMIT_BAL). \n",
    "\n",
    "В двух группах, тех людей, кто вернул кредит (default = 0) и тех, кто его не вернул (default = 1) проверьте гипотезы:   \n",
    "\n",
    "a) о равенстве медианных значений кредитного лимита с помощью подходящей интервальной оценки  \n",
    "b) о равенстве распределений с помощью одного из подходящих непараметрических критериев проверки равенства средних.  \n",
    "\n",
    "Значимы ли полученные результаты с практической точки зрения ?"
   ]
  },
  {
   "cell_type": "code",
   "execution_count": 5,
   "metadata": {},
   "outputs": [],
   "source": [
    "limit_bal_default0 = data[data.default == 0][['LIMIT_BAL']]\n",
    "limit_bal_default1 = data[data.default == 1][['LIMIT_BAL']]"
   ]
  },
  {
   "cell_type": "code",
   "execution_count": 6,
   "metadata": {},
   "outputs": [
    {
     "data": {
      "image/png": "[encoded data removed]",
      "text/plain": [
       "<Figure size 1440x360 with 2 Axes>"
      ]
     },
     "metadata": {
      "needs_background": "light"
     },
     "output_type": "display_data"
    }
   ],
   "source": [
    "fig, (ax1, ax2) = plt.subplots(1, 2, figsize=(20, 5))\n",
    "fig.suptitle('LIMIT_BAL')\n",
    "\n",
    "ax1.set_title('Default = 0')\n",
    "ax1.grid()\n",
    "ax2.set_title('Default = 1')\n",
    "ax2.grid()\n",
    "\n",
    "ax1.hist(limit_bal_default0)\n",
    "ax2.hist(limit_bal_default1)\n",
    "\n",
    "plt.show()"
   ]
  },
  {
   "cell_type": "markdown",
   "metadata": {},
   "source": [
    "## Оценка медианы"
   ]
  },
  {
   "cell_type": "code",
   "execution_count": 7,
   "metadata": {},
   "outputs": [],
   "source": [
    "def get_bootstrap_samples(data, n_samples):\n",
    "    indices = np.random.randint(0, len(data), (n_samples, len(data)))\n",
    "    samples = data[indices]\n",
    "    return samples\n",
    "\n",
    "\n",
    "def bootstrap_stat_intervals(stat, alpha=0.05):\n",
    "    boundaries = np.percentile(stat, [100 * alpha / 2., 100 * (1 - alpha / 2.)])\n",
    "    return tuple(boundaries)"
   ]
  },
  {
   "cell_type": "code",
   "execution_count": 8,
   "metadata": {},
   "outputs": [],
   "source": [
    "np.random.seed(0)\n",
    "\n",
    "limit_bal_med_default0 = list(map(np.median, get_bootstrap_samples(limit_bal_default0.values, 1000)))\n",
    "limit_bal_med_default1 = list(map(np.median, get_bootstrap_samples(limit_bal_default1.values, 1000)))"
   ]
  },
  {
   "cell_type": "code",
   "execution_count": 9,
   "metadata": {},
   "outputs": [
    {
     "name": "stdout",
     "output_type": "stream",
     "text": [
      "Default = 0 median interval: 150000.000000 <= med(X) <= 150000.000000\n"
     ]
    }
   ],
   "source": [
    "print('Default = 0 median interval: %f <= med(X) <= %f' % bootstrap_stat_intervals(limit_bal_med_default0))"
   ]
  },
  {
   "cell_type": "code",
   "execution_count": 10,
   "metadata": {},
   "outputs": [
    {
     "name": "stdout",
     "output_type": "stream",
     "text": [
      "Default = 1 median interval: 80000.000000 <= med(X) <= 90000.000000\n"
     ]
    }
   ],
   "source": [
    "print('Default = 1 median interval: %f <= med(X) <= %f' % bootstrap_stat_intervals(limit_bal_med_default1))"
   ]
  },
  {
   "cell_type": "code",
   "execution_count": 11,
   "metadata": {},
   "outputs": [
    {
     "name": "stdout",
     "output_type": "stream",
     "text": [
      "Median delta: LIMIT_BAL    60000.0\n",
      "Name: 0.5, dtype: float64\n"
     ]
    }
   ],
   "source": [
    "print('Median delta:', limit_bal_default0.quantile(0.5) - limit_bal_default1.quantile(0.5))"
   ]
  },
  {
   "cell_type": "markdown",
   "metadata": {},
   "source": [
    "Медианы отличаются значительно. В выборке вернувших кредит кредитные лимит как правило больше"
   ]
  },
  {
   "cell_type": "markdown",
   "metadata": {},
   "source": [
    "## Гипотеза о равенстве распределений"
   ]
  },
  {
   "cell_type": "code",
   "execution_count": 12,
   "metadata": {},
   "outputs": [
    {
     "data": {
      "text/plain": [
       "MannwhitneyuResult(statistic=array([95786286.5]), pvalue=array([1.22554858e-189]))"
      ]
     },
     "execution_count": 12,
     "metadata": {},
     "output_type": "execute_result"
    }
   ],
   "source": [
    "stats.mannwhitneyu(limit_bal_default0, limit_bal_default1, alternative='two-sided')"
   ]
  },
  {
   "cell_type": "markdown",
   "metadata": {},
   "source": [
    "Нулевая гипотеза о равенстве распределений отвергается на уровне значимости 0.05"
   ]
  },
  {
   "cell_type": "markdown",
   "metadata": {},
   "source": [
    "## Выводы\n",
    "\n",
    "Среди отдавших и неотдавших кредит распределения кредитного лимита значимо отличаются. Медиана в выборке отдавших кредит значимо больше. Но возможно, причинно-следственная связь тут обратная - тем, кто отдаёт кредиты дают больший лимит"
   ]
  },
  {
   "cell_type": "markdown",
   "metadata": {},
   "source": [
    "# Задание 2. SEX\n",
    "\n",
    "**SEX: пол клиента (1 = мужской, 2 = женский)**\n",
    "\n",
    "Пол (SEX): Проверьте гипотезу о том,  что гендерный состав  группы людей вернувших и не вернувших кредит отличается.  \n",
    "\n",
    "Хорошо, если вы предоставите несколько различных решений  этой задачи (с помощью доверительного интервала и подходящего статистического критерия)"
   ]
  },
  {
   "cell_type": "code",
   "execution_count": 13,
   "metadata": {},
   "outputs": [],
   "source": [
    "sex_default0 = data[data.default == 0][['SEX']]\n",
    "sex_default1 = data[data.default == 1][['SEX']]"
   ]
  },
  {
   "cell_type": "code",
   "execution_count": 14,
   "metadata": {},
   "outputs": [
    {
     "data": {
      "image/png": "[encoded data removed]",
      "text/plain": [
       "<Figure size 1440x360 with 2 Axes>"
      ]
     },
     "metadata": {
      "needs_background": "light"
     },
     "output_type": "display_data"
    }
   ],
   "source": [
    "fig, (ax1, ax2) = plt.subplots(1, 2, figsize=(20, 5))\n",
    "fig.suptitle('SEX')\n",
    "\n",
    "ax1.set_title('Default = 0')\n",
    "ax1.grid()\n",
    "ax2.set_title('Default = 1')\n",
    "ax2.grid()\n",
    "\n",
    "ax1.hist(sex_default0)\n",
    "ax2.hist(sex_default1)\n",
    "\n",
    "plt.show()"
   ]
  },
  {
   "cell_type": "code",
   "execution_count": 15,
   "metadata": {},
   "outputs": [
    {
     "data": {
      "text/plain": [
       "SEX\n",
       "2      14349\n",
       "1       9015\n",
       "dtype: int64"
      ]
     },
     "execution_count": 15,
     "metadata": {},
     "output_type": "execute_result"
    }
   ],
   "source": [
    "sex_default0.value_counts()"
   ]
  },
  {
   "cell_type": "code",
   "execution_count": 16,
   "metadata": {},
   "outputs": [
    {
     "data": {
      "text/plain": [
       "SEX\n",
       "2      3763\n",
       "1      2873\n",
       "dtype: int64"
      ]
     },
     "execution_count": 16,
     "metadata": {},
     "output_type": "execute_result"
    }
   ],
   "source": [
    "sex_default1.value_counts()"
   ]
  },
  {
   "cell_type": "markdown",
   "metadata": {},
   "source": [
    "## Доверительные интервалы\n",
    "\n",
    "Используем доверительные интервалы для доли"
   ]
  },
  {
   "cell_type": "code",
   "execution_count": 17,
   "metadata": {},
   "outputs": [],
   "source": [
    "male_count_default0 = sex_default0[sex_default0.SEX == 1].shape[0]\n",
    "all_count_default0 = sex_default0.shape[0]\n",
    "\n",
    "male_count_default1 = sex_default1[sex_default1.SEX == 1].shape[0]\n",
    "all_count_default1 = sex_default1.shape[0]"
   ]
  },
  {
   "cell_type": "code",
   "execution_count": 18,
   "metadata": {},
   "outputs": [
    {
     "name": "stdout",
     "output_type": "stream",
     "text": [
      "Default = 0, male confidential interval (alpha=0.05): (0.379608, 0.392092)\n"
     ]
    }
   ],
   "source": [
    "print('Default = 0, male confidential interval (alpha=0.05): (%f, %f)' % proportion_confint(male_count_default0, all_count_default0))"
   ]
  },
  {
   "cell_type": "code",
   "execution_count": 19,
   "metadata": {},
   "outputs": [
    {
     "name": "stdout",
     "output_type": "stream",
     "text": [
      "Default = 1, male confidential interval (alpha=0.05): (0.421020, 0.444863)\n"
     ]
    }
   ],
   "source": [
    "print('Default = 1, male confidential interval (alpha=0.05): (%f, %f)' % proportion_confint(male_count_default1, all_count_default1))"
   ]
  },
  {
   "cell_type": "markdown",
   "metadata": {},
   "source": [
    "Доверительные интервалы не пересекаются. Можно предположить, что среди неотдавших кредит большая доля мужчин"
   ]
  },
  {
   "cell_type": "code",
   "execution_count": 20,
   "metadata": {},
   "outputs": [],
   "source": [
    "def male_proportions_diff_confint_ind(sample1, sample2, alpha = 0.05):    \n",
    "    z = stats.norm.ppf(1 - alpha / 2.)\n",
    "    \n",
    "    p1 = float(sum(sample1.values == 1)) / len(sample1)\n",
    "    p2 = float(sum(sample2.values == 1)) / len(sample2)\n",
    "    \n",
    "    left_boundary = (p1 - p2) - z * np.sqrt(p1 * (1 - p1)/ len(sample1) + p2 * (1 - p2)/ len(sample2))\n",
    "    right_boundary = (p1 - p2) + z * np.sqrt(p1 * (1 - p1)/ len(sample1) + p2 * (1 - p2)/ len(sample2))\n",
    "    \n",
    "    return (left_boundary, right_boundary)"
   ]
  },
  {
   "cell_type": "code",
   "execution_count": 21,
   "metadata": {},
   "outputs": [
    {
     "name": "stdout",
     "output_type": "stream",
     "text": [
      "Default = 1/0 diff male confidential interval (alpha=0.05): (0.033635, 0.060548)\n"
     ]
    }
   ],
   "source": [
    "print('Default = 1/0 diff male confidential interval (alpha=0.05): (%f, %f)' % male_proportions_diff_confint_ind(sex_default1, sex_default0))"
   ]
  },
  {
   "cell_type": "markdown",
   "metadata": {},
   "source": [
    "Доверительный интервал для разницы долей лежит правее нуля в пределах от 3 до 6 процентов"
   ]
  },
  {
   "cell_type": "markdown",
   "metadata": {},
   "source": [
    "## Проверка равенства распределений"
   ]
  },
  {
   "cell_type": "code",
   "execution_count": 22,
   "metadata": {},
   "outputs": [],
   "source": [
    "def male_proportions_diff_z_stat_ind(sample1, sample2):\n",
    "    n1 = len(sample1)\n",
    "    n2 = len(sample2)\n",
    "    \n",
    "    p1 = float(sum(sample1.values == 1)) / n1\n",
    "    p2 = float(sum(sample2.values == 1)) / n2 \n",
    "    P = float(p1*n1 + p2*n2) / (n1 + n2)\n",
    "    \n",
    "    return (p1 - p2) / np.sqrt(P * (1 - P) * (1. / n1 + 1. / n2))"
   ]
  },
  {
   "cell_type": "code",
   "execution_count": 23,
   "metadata": {},
   "outputs": [
    {
     "data": {
      "text/plain": [
       "6.921375088562897"
      ]
     },
     "execution_count": 23,
     "metadata": {},
     "output_type": "execute_result"
    }
   ],
   "source": [
    "z_stat = male_proportions_diff_z_stat_ind(sex_default1, sex_default0)\n",
    "z_stat"
   ]
  },
  {
   "cell_type": "code",
   "execution_count": 24,
   "metadata": {},
   "outputs": [],
   "source": [
    "def proportions_diff_z_test(z_stat, alternative = 'two-sided'):\n",
    "    if alternative not in ('two-sided', 'less', 'greater'):\n",
    "        raise ValueError(\"alternative not recognized\\n\"\n",
    "                         \"should be 'two-sided', 'less' or 'greater'\")\n",
    "    \n",
    "    if alternative == 'two-sided':\n",
    "        return 2 * (1 - stats.norm.cdf(np.abs(z_stat)))\n",
    "    \n",
    "    if alternative == 'less':\n",
    "        return stats.norm.cdf(z_stat)\n",
    "\n",
    "    if alternative == 'greater':\n",
    "        return 1 - stats.norm.cdf(z_stat)"
   ]
  },
  {
   "cell_type": "code",
   "execution_count": 25,
   "metadata": {},
   "outputs": [
    {
     "data": {
      "text/plain": [
       "4.472866521609831e-12"
      ]
     },
     "execution_count": 25,
     "metadata": {},
     "output_type": "execute_result"
    }
   ],
   "source": [
    "proportions_diff_z_test(z_stat)"
   ]
  },
  {
   "cell_type": "markdown",
   "metadata": {},
   "source": [
    "Нулевая гипотеза о том, что распределение полов в выборках с default = 0 и 1 отвергается на уровне значимости 0.05\n",
    "\n",
    "При этом интервальная оценка даёт информацию, что в выборке неотдавших кредит мужчин на 3-6% больше\n",
    "\n",
    "## Выводы\n",
    "\n",
    "Практическая значимость данной оценки зависит от требований бизнеса (является ли критичным уровень 3-6%) и того, готов ли он на использование не слишком этичного признака в модели"
   ]
  },
  {
   "cell_type": "markdown",
   "metadata": {},
   "source": [
    "# Задание 3. EDUCATION\n",
    "\n",
    "**EDUCATION: образование (0 = доктор, 1 = магистр; 2 = бакалавр; 3 = выпускник школы; 4 = начальное образование; 5= прочее; 6 = нет данных).**\n",
    "\n",
    "Образование (EDUCATION): Проверьте гипотезу о том, что образование не влияет на то, вернет ли человек долг.\n",
    "\n",
    "Предложите способ наглядного представления разницы в ожидаемых и наблюдаемых значениях количества человек вернувших и не вернувших долг.\n",
    "\n",
    "Например, составьте таблицу сопряженности \"образование\" на \"возврат долга\", где значением ячейки была бы  разность между наблюдаемым и ожидаемым количеством человек.\n",
    "\n",
    "Как бы вы предложили модифицировать таблицу так, чтобы привести значения ячеек к одному масштабу не потеряв в интерпретируемости?\n",
    "\n",
    "Наличие какого образования является наилучшим индикатором того, что человек  отдаст долг? наоборт, не отдаст долг?"
   ]
  },
  {
   "cell_type": "code",
   "execution_count": 26,
   "metadata": {},
   "outputs": [],
   "source": [
    "edu_default0 = data[data.default == 0][['EDUCATION']]\n",
    "edu_default1 = data[data.default == 1][['EDUCATION']]\n",
    "edu_counts = data['EDUCATION'].value_counts()"
   ]
  },
  {
   "cell_type": "code",
   "execution_count": 27,
   "metadata": {},
   "outputs": [
    {
     "data": {
      "image/png": "[encoded data removed]",
      "text/plain": [
       "<Figure size 1440x360 with 2 Axes>"
      ]
     },
     "metadata": {
      "needs_background": "light"
     },
     "output_type": "display_data"
    }
   ],
   "source": [
    "fig, (ax1, ax2) = plt.subplots(1, 2, figsize=(20, 5))\n",
    "fig.suptitle('EDUCATION')\n",
    "\n",
    "ax1.set_title('Default = 0')\n",
    "ax1.grid()\n",
    "ax2.set_title('Default = 1')\n",
    "ax2.grid()\n",
    "\n",
    "ax1.hist(edu_default0)\n",
    "ax2.hist(edu_default1)\n",
    "\n",
    "plt.show()"
   ]
  },
  {
   "cell_type": "code",
   "execution_count": 28,
   "metadata": {},
   "outputs": [
    {
     "name": "stdout",
     "output_type": "stream",
     "text": [
      "+---------------------+-------+-------+-------+-------+-------+-------+-------+\n",
      "| Education / Default |   0   |   1   |   2   |   3   |   4   |   5   |   6   |\n",
      "+=====================+=======+=======+=======+=======+=======+=======+=======+\n",
      "| 0                   | 0.001 | 0.366 | 0.458 | 0.158 | 0.005 | 0.011 | 0.002 |\n",
      "+---------------------+-------+-------+-------+-------+-------+-------+-------+\n",
      "| 1                   | 0     | 0.307 | 0.502 | 0.186 | 0.001 | 0.003 | 0.001 |\n",
      "+---------------------+-------+-------+-------+-------+-------+-------+-------+\n"
     ]
    }
   ],
   "source": [
    "edu_indexes = list(range(len(edu_counts)))\n",
    "table_rows = [['Education / Default'] + [str(x) for x in edu_indexes], ['0'], ['1']]\n",
    "edu_confusion_matrix = [[], []]\n",
    "\n",
    "for edu in edu_indexes:\n",
    "    proportion = edu_default0[edu_default0.EDUCATION == edu].count() / edu_default0.shape[0]\n",
    "    table_rows[1].append(round(proportion, 3))\n",
    "    edu_confusion_matrix[0].append(float(proportion))\n",
    "\n",
    "for edu in edu_indexes:\n",
    "    proportion = edu_default1[edu_default1.EDUCATION == edu].count() / edu_default1.shape[0]\n",
    "    table_rows[2].append(round(proportion, 3))\n",
    "    edu_confusion_matrix[1].append(float(proportion))\n",
    "\n",
    "tbl = Texttable()\n",
    "tbl.add_rows(table_rows)\n",
    "print(tbl.draw())"
   ]
  },
  {
   "cell_type": "markdown",
   "metadata": {},
   "source": [
    "Можно составить таблицу долей людей с конкретным уровнем образования от всех людей в подвыборках. Это решит проблему разного масштаба\n",
    "\n",
    "По таблице и гистограмме нельзя сделать вывод, что какой-то определённый уровень образования даёт гарантии на возврат или невозврат долга\n",
    "\n",
    "В выборке вернувших долг есть доктора наук, но их слишком мало, чтобы делать выводы\n",
    "\n",
    "Попробуем посчитать корреляцию между признаками. Поскольку это два категориальных признака, нужно взять коэффициент V Крамера"
   ]
  },
  {
   "cell_type": "code",
   "execution_count": 29,
   "metadata": {},
   "outputs": [],
   "source": [
    "def cramers_corrected_stat(confusion_matrix):\n",
    "    chi2 = stats.chi2_contingency(confusion_matrix)[0]\n",
    "    n = confusion_matrix.sum()\n",
    "    phi2 = chi2 / n\n",
    "    r, k = confusion_matrix.shape\n",
    "    phi2corr = max(0, phi2 - ((k - 1) * (r - 1)) / (n - 1))    \n",
    "    rcorr = r - ((r - 1)**2) / (n - 1)\n",
    "    kcorr = k - ((k - 1)**2) / (n - 1)\n",
    "    return np.sqrt(phi2corr / min((kcorr - 1), (rcorr - 1)))"
   ]
  },
  {
   "cell_type": "code",
   "execution_count": 30,
   "metadata": {},
   "outputs": [
    {
     "data": {
      "text/plain": [
       "-0.0"
      ]
     },
     "execution_count": 30,
     "metadata": {},
     "output_type": "execute_result"
    }
   ],
   "source": [
    "cramers_corrected_stat(np.array(edu_confusion_matrix))"
   ]
  },
  {
   "cell_type": "markdown",
   "metadata": {},
   "source": [
    "Корреляция нулевая\n",
    "\n",
    "## Выводы\n",
    "\n",
    "Уровень образования действительно никак не влияет на возврат кредита и не может использоваться в скоринговой модели"
   ]
  },
  {
   "cell_type": "markdown",
   "metadata": {},
   "source": [
    "# Задание 4. MARRIAGE\n",
    "\n",
    "**MARRIAGE: (0 = отказываюсь отвечать; 1 = замужем/женат; 2 = холост; 3 = нет данных).**\n",
    "\n",
    "Семейное положение (MARRIAGE): Проверьте, как связан семейный статус с индикатором дефолта: нужно предложить меру, по которой можно измерить возможную связь этих переменных и посчитать ее значение."
   ]
  },
  {
   "cell_type": "code",
   "execution_count": 31,
   "metadata": {},
   "outputs": [],
   "source": [
    "mar_default0 = data[data.default == 0][['MARRIAGE']]\n",
    "mar_default1 = data[data.default == 1][['MARRIAGE']]\n",
    "mar_counts = data['MARRIAGE'].value_counts()"
   ]
  },
  {
   "cell_type": "code",
   "execution_count": 32,
   "metadata": {},
   "outputs": [
    {
     "data": {
      "image/png": "[encoded data removed]",
      "text/plain": [
       "<Figure size 1440x360 with 2 Axes>"
      ]
     },
     "metadata": {
      "needs_background": "light"
     },
     "output_type": "display_data"
    }
   ],
   "source": [
    "fig, (ax1, ax2) = plt.subplots(1, 2, figsize=(20, 5))\n",
    "fig.suptitle('MARRIAGE')\n",
    "\n",
    "ax1.set_title('Default = 0')\n",
    "ax1.grid()\n",
    "ax2.set_title('Default = 1')\n",
    "ax2.grid()\n",
    "\n",
    "ax1.hist(mar_default0)\n",
    "ax2.hist(mar_default1)\n",
    "\n",
    "plt.show()"
   ]
  },
  {
   "cell_type": "markdown",
   "metadata": {},
   "source": [
    "Здесь мы также ищем взаимосвязь между категориальными переменными, поэтому можно применить тот же подход, что и в предыдущем задании"
   ]
  },
  {
   "cell_type": "code",
   "execution_count": 33,
   "metadata": {},
   "outputs": [
    {
     "name": "stdout",
     "output_type": "stream",
     "text": [
      "+--------------------+-------+-------+-------+-------+\n",
      "| Marriage / Default |   0   |   1   |   2   |   3   |\n",
      "+====================+=======+=======+=======+=======+\n",
      "| 0                  | 0.002 | 0.447 | 0.540 | 0.010 |\n",
      "+--------------------+-------+-------+-------+-------+\n",
      "| 1                  | 0.001 | 0.483 | 0.503 | 0.013 |\n",
      "+--------------------+-------+-------+-------+-------+\n"
     ]
    }
   ],
   "source": [
    "mar_indexes = list(range(len(mar_counts)))\n",
    "table_rows = [['Marriage / Default'] + [str(x) for x in mar_indexes], ['0'], ['1']]\n",
    "mar_confusion_matrix = [[], []]\n",
    "\n",
    "for mar in mar_indexes:\n",
    "    proportion = mar_default0[mar_default0.MARRIAGE == mar].count() / mar_default0.shape[0]\n",
    "    table_rows[1].append(round(proportion, 3))\n",
    "    mar_confusion_matrix[0].append(float(proportion))\n",
    "\n",
    "for mar in mar_indexes:\n",
    "    proportion = mar_default1[mar_default1.MARRIAGE == mar].count() / mar_default1.shape[0]\n",
    "    table_rows[2].append(round(proportion, 3))\n",
    "    mar_confusion_matrix[1].append(float(proportion))\n",
    "\n",
    "tbl = Texttable()\n",
    "tbl.add_rows(table_rows)\n",
    "print(tbl.draw())"
   ]
  },
  {
   "cell_type": "code",
   "execution_count": 34,
   "metadata": {},
   "outputs": [
    {
     "data": {
      "text/plain": [
       "-0.0"
      ]
     },
     "execution_count": 34,
     "metadata": {},
     "output_type": "execute_result"
    }
   ],
   "source": [
    "cramers_corrected_stat(np.array(mar_confusion_matrix))"
   ]
  },
  {
   "cell_type": "markdown",
   "metadata": {},
   "source": [
    "## Выводы\n",
    "\n",
    "Между семейным статусом и возвратом долга также нет корреляции"
   ]
  },
  {
   "cell_type": "markdown",
   "metadata": {},
   "source": [
    "# Задание 5. AGE\n",
    "\n",
    "**AGE: возраст в годах**\n",
    "\n",
    "Возраст (AGE): Относительно двух групп людей  вернувших и не вернувших кредит  проверьте следующие гипотезы:   \n",
    "\n",
    "a) о равенстве медианных значений возрастов людей   \n",
    "b) о равенстве распределений  с помощью одного из подходящих непараметрических критериев проверки равенства средних.  \n",
    "\n",
    "Значимы ли полученные результаты с практической точки зрения?"
   ]
  },
  {
   "cell_type": "code",
   "execution_count": 35,
   "metadata": {},
   "outputs": [],
   "source": [
    "age_default0 = data[data.default == 0][['AGE']]\n",
    "age_default1 = data[data.default == 1][['AGE']]"
   ]
  },
  {
   "cell_type": "code",
   "execution_count": 36,
   "metadata": {},
   "outputs": [
    {
     "data": {
      "image/png": "[encoded data removed]",
      "text/plain": [
       "<Figure size 1440x360 with 2 Axes>"
      ]
     },
     "metadata": {
      "needs_background": "light"
     },
     "output_type": "display_data"
    }
   ],
   "source": [
    "fig, (ax1, ax2) = plt.subplots(1, 2, figsize=(20, 5))\n",
    "fig.suptitle('AGE')\n",
    "\n",
    "ax1.set_title('Default = 0')\n",
    "ax1.grid()\n",
    "ax2.set_title('Default = 1')\n",
    "ax2.grid()\n",
    "\n",
    "ax1.hist(age_default0)\n",
    "ax2.hist(age_default1)\n",
    "\n",
    "plt.show()"
   ]
  },
  {
   "cell_type": "markdown",
   "metadata": {},
   "source": [
    "## Оценка медианы"
   ]
  },
  {
   "cell_type": "code",
   "execution_count": 37,
   "metadata": {},
   "outputs": [],
   "source": [
    "np.random.seed(0)\n",
    "\n",
    "age_med_default0 = list(map(np.median, get_bootstrap_samples(age_default0.values, 1000)))\n",
    "age_med_default1 = list(map(np.median, get_bootstrap_samples(age_default1.values, 1000)))"
   ]
  },
  {
   "cell_type": "code",
   "execution_count": 38,
   "metadata": {},
   "outputs": [
    {
     "name": "stdout",
     "output_type": "stream",
     "text": [
      "Default = 0 median interval: 34.000000 <= med(X) <= 34.000000\n"
     ]
    }
   ],
   "source": [
    "print('Default = 0 median interval: %f <= med(X) <= %f' % bootstrap_stat_intervals(age_med_default0))"
   ]
  },
  {
   "cell_type": "code",
   "execution_count": 39,
   "metadata": {},
   "outputs": [
    {
     "name": "stdout",
     "output_type": "stream",
     "text": [
      "Default = 1 median interval: 34.000000 <= med(X) <= 35.000000\n"
     ]
    }
   ],
   "source": [
    "print('Default = 1 median interval: %f <= med(X) <= %f' % bootstrap_stat_intervals(age_med_default1))"
   ]
  },
  {
   "cell_type": "code",
   "execution_count": 40,
   "metadata": {},
   "outputs": [
    {
     "name": "stdout",
     "output_type": "stream",
     "text": [
      "Median delta: AGE    0.0\n",
      "Name: 0.5, dtype: float64\n"
     ]
    }
   ],
   "source": [
    "print('Median delta:', age_default0.quantile(0.5) - age_default1.quantile(0.5))"
   ]
  },
  {
   "cell_type": "markdown",
   "metadata": {},
   "source": [
    "## Проверка равенства распределений"
   ]
  },
  {
   "cell_type": "code",
   "execution_count": 41,
   "metadata": {},
   "outputs": [
    {
     "data": {
      "text/plain": [
       "MannwhitneyuResult(statistic=array([76966879.5]), pvalue=array([0.37250354]))"
      ]
     },
     "execution_count": 41,
     "metadata": {},
     "output_type": "execute_result"
    }
   ],
   "source": [
    "stats.mannwhitneyu(age_default0, age_default1, alternative='two-sided')"
   ]
  },
  {
   "cell_type": "markdown",
   "metadata": {},
   "source": [
    "Не смотря на равенство медиан нулевая гипотеза о равенстве распределений отвергается на уровне значимости 0.05"
   ]
  },
  {
   "cell_type": "markdown",
   "metadata": {},
   "source": [
    "## Выводы\n",
    "\n",
    "По признаку \"возраст\" мы получили разные распределения. С практической точки зрения это значит, что данный признак может использоваться в скоринговой модели"
   ]
  }
 ],
 "metadata": {
  "interpreter": {
   "hash": "1a0ca82fe72f7b6dcc59f88ce1601f3112cb58c024b4d57901a90c4fbc3fa1c5"
  },
  "kernelspec": {
   "display_name": "Python 3.8.8 64-bit ('base': conda)",
   "language": "python",
   "name": "python3"
  },
  "language_info": {
   "codemirror_mode": {
    "name": "ipython",
    "version": 3
   },
   "file_extension": ".py",
   "mimetype": "text/x-python",
   "name": "python",
   "nbconvert_exporter": "python",
   "pygments_lexer": "ipython3",
   "version": "3.8.8"
  },
  "orig_nbformat": 4
 },
 "nbformat": 4,
 "nbformat_minor": 2
}
