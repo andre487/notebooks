{
 "cells": [
  {
   "cell_type": "code",
   "execution_count": 42,
   "metadata": {},
   "outputs": [],
   "source": [
    "import pandas as pd\n",
    "import numpy as np\n",
    "from  sklearn.feature_extraction.text import CountVectorizer, TfidfVectorizer \n",
    "from sklearn.linear_model import LogisticRegression\n",
    "from sklearn.model_selection import cross_val_score\n",
    "from sklearn.metrics import f1_score, SCORERS\n",
    "from sklearn.naive_bayes import MultinomialNB"
   ]
  },
  {
   "cell_type": "code",
   "execution_count": 9,
   "metadata": {},
   "outputs": [],
   "source": [
    "with open('c5/SMSSpamCollection.txt') as fp:\n",
    "    raw_data = [x.strip() for x in fp.readlines() if x.strip()]"
   ]
  },
  {
   "cell_type": "code",
   "execution_count": 10,
   "metadata": {},
   "outputs": [
    {
     "data": {
      "text/html": [
       "<div>\n",
       "<style scoped>\n",
       "    .dataframe tbody tr th:only-of-type {\n",
       "        vertical-align: middle;\n",
       "    }\n",
       "\n",
       "    .dataframe tbody tr th {\n",
       "        vertical-align: top;\n",
       "    }\n",
       "\n",
       "    .dataframe thead th {\n",
       "        text-align: right;\n",
       "    }\n",
       "</style>\n",
       "<table border=\"1\" class=\"dataframe\">\n",
       "  <thead>\n",
       "    <tr style=\"text-align: right;\">\n",
       "      <th></th>\n",
       "      <th>spam</th>\n",
       "      <th>text</th>\n",
       "    </tr>\n",
       "  </thead>\n",
       "  <tbody>\n",
       "    <tr>\n",
       "      <th>0</th>\n",
       "      <td>0</td>\n",
       "      <td>Go until jurong point, crazy.. Available only ...</td>\n",
       "    </tr>\n",
       "    <tr>\n",
       "      <th>1</th>\n",
       "      <td>0</td>\n",
       "      <td>Ok lar... Joking wif u oni...</td>\n",
       "    </tr>\n",
       "    <tr>\n",
       "      <th>2</th>\n",
       "      <td>1</td>\n",
       "      <td>Free entry in 2 a wkly comp to win FA Cup fina...</td>\n",
       "    </tr>\n",
       "    <tr>\n",
       "      <th>3</th>\n",
       "      <td>0</td>\n",
       "      <td>U dun say so early hor... U c already then say...</td>\n",
       "    </tr>\n",
       "    <tr>\n",
       "      <th>4</th>\n",
       "      <td>0</td>\n",
       "      <td>Nah I don't think he goes to usf, he lives aro...</td>\n",
       "    </tr>\n",
       "  </tbody>\n",
       "</table>\n",
       "</div>"
      ],
      "text/plain": [
       "   spam                                               text\n",
       "0     0  Go until jurong point, crazy.. Available only ...\n",
       "1     0                      Ok lar... Joking wif u oni...\n",
       "2     1  Free entry in 2 a wkly comp to win FA Cup fina...\n",
       "3     0  U dun say so early hor... U c already then say...\n",
       "4     0  Nah I don't think he goes to usf, he lives aro..."
      ]
     },
     "execution_count": 10,
     "metadata": {},
     "output_type": "execute_result"
    }
   ],
   "source": [
    "data = []\n",
    "for line in raw_data:\n",
    "    y, x = line.split('\\t', 1)\n",
    "    data.append({\n",
    "        'spam': 1 if y == 'spam' else 0,\n",
    "        'text': x,\n",
    "    })\n",
    "data = pd.DataFrame(data)\n",
    "data.head()"
   ]
  },
  {
   "cell_type": "code",
   "execution_count": 13,
   "metadata": {},
   "outputs": [],
   "source": [
    "cv = CountVectorizer()\n",
    "cv_default = cv.fit_transform(data.text)"
   ]
  },
  {
   "cell_type": "code",
   "execution_count": 25,
   "metadata": {},
   "outputs": [
    {
     "data": {
      "text/plain": [
       "array([0.97297297, 0.89855072, 0.91549296, 0.95833333, 0.92957746,\n",
       "       0.91176471, 0.92857143, 0.92857143, 0.91549296, 0.95172414])"
      ]
     },
     "execution_count": 25,
     "metadata": {},
     "output_type": "execute_result"
    }
   ],
   "source": [
    "est = LogisticRegression()\n",
    "cv_results = cross_val_score(est, cv_default, data.spam, cv=10, scoring='f1')\n",
    "cv_results"
   ]
  },
  {
   "cell_type": "code",
   "execution_count": 54,
   "metadata": {},
   "outputs": [
    {
     "data": {
      "text/plain": [
       "0.9"
      ]
     },
     "execution_count": 54,
     "metadata": {},
     "output_type": "execute_result"
    }
   ],
   "source": [
    "with open('c5/SMSSpamCollection.answer1.txt', 'w') as fp:\n",
    "    res = round(np.mean(cv_results), 1)\n",
    "    fp.write(str(res))\n",
    "res"
   ]
  },
  {
   "cell_type": "code",
   "execution_count": 35,
   "metadata": {},
   "outputs": [
    {
     "data": {
      "text/plain": [
       "LogisticRegression(fit_intercept=False)"
      ]
     },
     "execution_count": 35,
     "metadata": {},
     "output_type": "execute_result"
    }
   ],
   "source": [
    "cv_regresson = LogisticRegression(fit_intercept=False)\n",
    "cv_regresson.fit(cv_default, data.spam)"
   ]
  },
  {
   "cell_type": "code",
   "execution_count": 36,
   "metadata": {},
   "outputs": [
    {
     "name": "stdout",
     "output_type": "stream",
     "text": [
      "[1] FreeMsg: Txt: CALL to No: 86888 & claim your reward of 3 hours talk time to use from your phone now! Subscribe6GB\n",
      "[1] FreeMsg: Txt: claim your reward of 3 hours talk time\n",
      "[0] Have you visited the last lecture on physics?\n",
      "[0] Have you visited the last lecture on physics? Just buy this book and you will have all materials! Only 99$\n",
      "[0] Only 99$\n"
     ]
    }
   ],
   "source": [
    "messages = [\n",
    "    'FreeMsg: Txt: CALL to No: 86888 & claim your reward of 3 hours talk time to use from your phone now! Subscribe6GB',\n",
    "    'FreeMsg: Txt: claim your reward of 3 hours talk time',\n",
    "    'Have you visited the last lecture on physics?',\n",
    "    'Have you visited the last lecture on physics? Just buy this book and you will have all materials! Only 99$',\n",
    "    'Only 99$',\n",
    "]\n",
    "\n",
    "task6_results = []\n",
    "for msg in messages:\n",
    "    dt = cv.transform([msg])\n",
    "    res = cv_regresson.predict(dt)\n",
    "    print(res, msg)\n",
    "    task6_results.append(res[0])"
   ]
  },
  {
   "cell_type": "code",
   "execution_count": 53,
   "metadata": {},
   "outputs": [
    {
     "data": {
      "text/plain": [
       "'1 1 0 0 0'"
      ]
     },
     "execution_count": 53,
     "metadata": {},
     "output_type": "execute_result"
    }
   ],
   "source": [
    "with open('c5/SMSSpamCollection.answer2.txt', 'w') as fp:\n",
    "    res = ' '.join(str(x) for x in task6_results)\n",
    "    fp.write(str(res))\n",
    "res"
   ]
  },
  {
   "cell_type": "code",
   "execution_count": 37,
   "metadata": {},
   "outputs": [],
   "source": [
    "cv22 = CountVectorizer(ngram_range=(2, 2))\n",
    "cv22_data = cv22.fit_transform(data.text)"
   ]
  },
  {
   "cell_type": "code",
   "execution_count": 38,
   "metadata": {},
   "outputs": [
    {
     "data": {
      "text/plain": [
       "array([0.828125  , 0.8125    , 0.8372093 , 0.828125  , 0.84375   ,\n",
       "       0.816     , 0.79674797, 0.7704918 , 0.7804878 , 0.85496183])"
      ]
     },
     "execution_count": 38,
     "metadata": {},
     "output_type": "execute_result"
    }
   ],
   "source": [
    "est = LogisticRegression()\n",
    "cv22_results = cross_val_score(est, cv22_data, data.spam, cv=10, scoring='f1')\n",
    "cv22_results"
   ]
  },
  {
   "cell_type": "code",
   "execution_count": 39,
   "metadata": {},
   "outputs": [],
   "source": [
    "cv33 = CountVectorizer(ngram_range=(3, 3))\n",
    "cv33_data = cv33.fit_transform(data.text)\n",
    "\n",
    "cv13 = CountVectorizer(ngram_range=(1, 3))\n",
    "cv13_data = cv13.fit_transform(data.text)"
   ]
  },
  {
   "cell_type": "code",
   "execution_count": 40,
   "metadata": {},
   "outputs": [
    {
     "data": {
      "text/plain": [
       "array([0.75      , 0.71794872, 0.71794872, 0.75      , 0.73504274,\n",
       "       0.71304348, 0.71304348, 0.70689655, 0.69565217, 0.75      ])"
      ]
     },
     "execution_count": 40,
     "metadata": {},
     "output_type": "execute_result"
    }
   ],
   "source": [
    "est = LogisticRegression()\n",
    "cv33_results = cross_val_score(est, cv33_data, data.spam, cv=10, scoring='f1')\n",
    "cv33_results"
   ]
  },
  {
   "cell_type": "code",
   "execution_count": 41,
   "metadata": {},
   "outputs": [
    {
     "data": {
      "text/plain": [
       "array([0.94366197, 0.88888889, 0.92198582, 0.92198582, 0.9352518 ,\n",
       "       0.91176471, 0.91970803, 0.92086331, 0.90780142, 0.95104895])"
      ]
     },
     "execution_count": 41,
     "metadata": {},
     "output_type": "execute_result"
    }
   ],
   "source": [
    "est = LogisticRegression()\n",
    "cv13_results = cross_val_score(est, cv13_data, data.spam, cv=10, scoring='f1')\n",
    "cv13_results"
   ]
  },
  {
   "cell_type": "code",
   "execution_count": 55,
   "metadata": {},
   "outputs": [
    {
     "data": {
      "text/plain": [
       "'0.82 0.72 0.92'"
      ]
     },
     "execution_count": 55,
     "metadata": {},
     "output_type": "execute_result"
    }
   ],
   "source": [
    "with open('c5/SMSSpamCollection.answer3.txt', 'w') as fp:\n",
    "    res22 = round(np.mean(cv22_results), 2)\n",
    "    res33 = round(np.mean(cv33_results), 2)\n",
    "    res13 = round(np.mean(cv13_results), 2)\n",
    "\n",
    "    res = f'{res22} {res33} {res13}'\n",
    "    fp.write(str(res))\n",
    "res"
   ]
  },
  {
   "cell_type": "code",
   "execution_count": 43,
   "metadata": {},
   "outputs": [
    {
     "data": {
      "text/plain": [
       "array([0.68202765, 0.64628821, 0.63559322, 0.62978723, 0.65740741,\n",
       "       0.65116279, 0.63157895, 0.61538462, 0.63247863, 0.66972477])"
      ]
     },
     "execution_count": 43,
     "metadata": {},
     "output_type": "execute_result"
    }
   ],
   "source": [
    "est = MultinomialNB()\n",
    "cv22_nb_results = cross_val_score(est, cv22_data, data.spam, cv=10, scoring='f1')\n",
    "cv22_nb_results"
   ]
  },
  {
   "cell_type": "code",
   "execution_count": 44,
   "metadata": {},
   "outputs": [
    {
     "data": {
      "text/plain": [
       "array([0.39361702, 0.37659033, 0.390625  , 0.3649635 , 0.38797814,\n",
       "       0.37597911, 0.36962025, 0.3718593 , 0.37593985, 0.37878788])"
      ]
     },
     "execution_count": 44,
     "metadata": {},
     "output_type": "execute_result"
    }
   ],
   "source": [
    "est = MultinomialNB()\n",
    "cv33_nb_results = cross_val_score(est, cv33_data, data.spam, cv=10, scoring='f1')\n",
    "cv33_nb_results"
   ]
  },
  {
   "cell_type": "code",
   "execution_count": 45,
   "metadata": {},
   "outputs": [
    {
     "data": {
      "text/plain": [
       "array([0.93081761, 0.9068323 , 0.8969697 , 0.88622754, 0.85542169,\n",
       "       0.86956522, 0.86956522, 0.88484848, 0.86549708, 0.9125    ])"
      ]
     },
     "execution_count": 45,
     "metadata": {},
     "output_type": "execute_result"
    }
   ],
   "source": [
    "est = MultinomialNB()\n",
    "cv13_nb_results = cross_val_score(est, cv13_data, data.spam, cv=10, scoring='f1')\n",
    "cv13_nb_results"
   ]
  },
  {
   "cell_type": "code",
   "execution_count": 56,
   "metadata": {},
   "outputs": [
    {
     "data": {
      "text/plain": [
       "'0.65 0.38 0.89'"
      ]
     },
     "execution_count": 56,
     "metadata": {},
     "output_type": "execute_result"
    }
   ],
   "source": [
    "with open('c5/SMSSpamCollection.answer4.txt', 'w') as fp:\n",
    "    res22 = round(np.mean(cv22_nb_results), 2)\n",
    "    res33 = round(np.mean(cv33_nb_results), 2)\n",
    "    res13 = round(np.mean(cv13_nb_results), 2)\n",
    "\n",
    "    res = f'{res22} {res33} {res13}'\n",
    "    fp.write(str(res))\n",
    "res"
   ]
  },
  {
   "cell_type": "code",
   "execution_count": 46,
   "metadata": {},
   "outputs": [],
   "source": [
    "ti13 = TfidfVectorizer(ngram_range=(1, 3))\n",
    "ti13_data = ti13.fit_transform(data.text)"
   ]
  },
  {
   "cell_type": "code",
   "execution_count": 47,
   "metadata": {},
   "outputs": [
    {
     "data": {
      "text/plain": [
       "array([0.68421053, 0.66071429, 0.62385321, 0.64864865, 0.64220183,\n",
       "       0.71304348, 0.54901961, 0.61111111, 0.59813084, 0.71794872])"
      ]
     },
     "execution_count": 47,
     "metadata": {},
     "output_type": "execute_result"
    }
   ],
   "source": [
    "est = LogisticRegression()\n",
    "ti13_results = cross_val_score(est, ti13_data, data.spam, cv=10, scoring='f1')\n",
    "ti13_results"
   ]
  },
  {
   "cell_type": "code",
   "execution_count": 57,
   "metadata": {},
   "outputs": [
    {
     "data": {
      "text/plain": [
       "'-1'"
      ]
     },
     "execution_count": 57,
     "metadata": {},
     "output_type": "execute_result"
    }
   ],
   "source": [
    "with open('c5/SMSSpamCollection.answer5.txt', 'w') as fp:\n",
    "    res = '-1'\n",
    "    fp.write(str(res))\n",
    "res"
   ]
  },
  {
   "cell_type": "code",
   "execution_count": null,
   "metadata": {},
   "outputs": [],
   "source": []
  }
 ],
 "metadata": {
  "interpreter": {
   "hash": "1a0ca82fe72f7b6dcc59f88ce1601f3112cb58c024b4d57901a90c4fbc3fa1c5"
  },
  "kernelspec": {
   "display_name": "Python 3.8.8 64-bit ('base': conda)",
   "language": "python",
   "name": "python3"
  },
  "language_info": {
   "codemirror_mode": {
    "name": "ipython",
    "version": 3
   },
   "file_extension": ".py",
   "mimetype": "text/x-python",
   "name": "python",
   "nbconvert_exporter": "python",
   "pygments_lexer": "ipython3",
   "version": "3.8.8"
  },
  "orig_nbformat": 4
 },
 "nbformat": 4,
 "nbformat_minor": 2
}
