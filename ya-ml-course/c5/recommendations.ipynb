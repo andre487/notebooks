{
 "cells": [
  {
   "cell_type": "code",
   "execution_count": 1,
   "metadata": {},
   "outputs": [],
   "source": [
    "import pandas as pd\n",
    "import numpy as np\n",
    "from collections import Counter, defaultdict"
   ]
  },
  {
   "cell_type": "code",
   "execution_count": 2,
   "metadata": {},
   "outputs": [],
   "source": [
    "with open('coursera_sessions_train.txt') as fp:\n",
    "    raw_train_data = [x.strip() for x in fp if x.strip()]\n",
    "\n",
    "with open('coursera_sessions_test.txt') as fp:\n",
    "    raw_test_data = [x.strip() for x in fp if x.strip()]"
   ]
  },
  {
   "cell_type": "code",
   "execution_count": 3,
   "metadata": {},
   "outputs": [],
   "source": [
    "train_data = []\n",
    "for sess in raw_train_data:\n",
    "    seen, bought = sess.split(';')\n",
    "    train_data.append((\n",
    "        [int(x) for x in seen.split(',') if x],\n",
    "        [int(x) for x in bought.split(',') if x],\n",
    "    ))\n",
    "\n",
    "test_data = []\n",
    "for sess in raw_test_data:\n",
    "    seen, bought = sess.split(';')\n",
    "    test_data.append((\n",
    "        [int(x) for x in seen.split(',') if x],\n",
    "        [int(x) for x in bought.split(',') if x],\n",
    "    ))"
   ]
  },
  {
   "cell_type": "code",
   "execution_count": 4,
   "metadata": {},
   "outputs": [
    {
     "data": {
      "text/plain": [
       "50000"
      ]
     },
     "execution_count": 4,
     "metadata": {},
     "output_type": "execute_result"
    }
   ],
   "source": [
    "len(train_data)"
   ]
  },
  {
   "cell_type": "code",
   "execution_count": 5,
   "metadata": {},
   "outputs": [],
   "source": [
    "seen_counts = defaultdict(int)\n",
    "seen_len = 0\n",
    "bought_counts = defaultdict(int)\n",
    "bought_len = 0\n",
    "\n",
    "for seen, bought in train_data:\n",
    "    seen_len += len(seen)\n",
    "    for x in seen:\n",
    "        seen_counts[x] += 1\n",
    "\n",
    "    bought_len += len(bought)\n",
    "    for x in bought:\n",
    "        bought_counts[x] += 1"
   ]
  },
  {
   "cell_type": "code",
   "execution_count": 6,
   "metadata": {},
   "outputs": [
    {
     "data": {
      "text/plain": [
       "77064"
      ]
     },
     "execution_count": 6,
     "metadata": {},
     "output_type": "execute_result"
    }
   ],
   "source": [
    "len(seen_counts)"
   ]
  },
  {
   "cell_type": "code",
   "execution_count": 7,
   "metadata": {},
   "outputs": [
    {
     "data": {
      "text/plain": [
       "4479"
      ]
     },
     "execution_count": 7,
     "metadata": {},
     "output_type": "execute_result"
    }
   ],
   "source": [
    "len(bought_counts)"
   ]
  },
  {
   "cell_type": "code",
   "execution_count": 8,
   "metadata": {},
   "outputs": [
    {
     "data": {
      "text/plain": [
       "102806"
      ]
     },
     "execution_count": 8,
     "metadata": {},
     "output_type": "execute_result"
    }
   ],
   "source": [
    "max(seen_counts)"
   ]
  },
  {
   "cell_type": "code",
   "execution_count": 9,
   "metadata": {},
   "outputs": [
    {
     "data": {
      "text/plain": [
       "102646"
      ]
     },
     "execution_count": 9,
     "metadata": {},
     "output_type": "execute_result"
    }
   ],
   "source": [
    "max(bought_counts)"
   ]
  },
  {
   "cell_type": "code",
   "execution_count": 19,
   "metadata": {},
   "outputs": [],
   "source": [
    "def seen_key(x):\n",
    "    return seen_counts[x]\n",
    "\n",
    "def bought_key(x):\n",
    "    return bought_counts[x]\n",
    "\n",
    "def unique(x):\n",
    "    res = []\n",
    "    for y in x:\n",
    "        if y not in res:\n",
    "            res.append(y)\n",
    "    return res\n",
    "\n",
    "def precision(rec, bought, k):\n",
    "    x = 0\n",
    "    for y in bought:\n",
    "        if y in rec[:k]:\n",
    "            x += 1\n",
    "    return x / k\n",
    "\n",
    "def recall(rec, bought, k):\n",
    "    d = len(bought)\n",
    "    if not d:\n",
    "        return 0\n",
    "\n",
    "    x = 0\n",
    "    for y in bought:\n",
    "        if y in rec[:k]:\n",
    "            x += 1\n",
    "    return x / d\n",
    "\n",
    "train_precision5_sum_seen = 0\n",
    "train_precision5_sum_bought = 0\n",
    "train_precision1_sum_seen = 0\n",
    "train_precision1_sum_bought = 0\n",
    "\n",
    "train_recall5_sum_seen = 0\n",
    "train_recall5_sum_bought = 0\n",
    "train_recall1_sum_seen = 0\n",
    "train_recall1_sum_bought = 0\n",
    "\n",
    "sess_count = 0\n",
    "for seen, bought in train_data:\n",
    "    if not bought:\n",
    "        continue\n",
    "\n",
    "    sess_count += 1\n",
    "\n",
    "    rec_seen = sorted(unique(seen), key=seen_key, reverse=True)\n",
    "    rec_bought = sorted(unique(seen), key=bought_key, reverse=True)\n",
    "\n",
    "    train_precision5_sum_seen += precision(rec_seen, bought, 5)\n",
    "    train_precision1_sum_seen += precision(rec_seen, bought, 1)\n",
    "    train_precision5_sum_bought += precision(rec_bought, bought, 5)\n",
    "    train_precision1_sum_bought += precision(rec_bought, bought, 1)\n",
    "\n",
    "    train_recall5_sum_seen += recall(rec_seen, bought, 5)\n",
    "    train_recall1_sum_seen += recall(rec_seen, bought, 1)\n",
    "    train_recall5_sum_bought += recall(rec_bought, bought, 5)\n",
    "    train_recall1_sum_bought += recall(rec_bought, bought, 1)\n",
    "\n",
    "train_precision5_avg_seen = train_precision5_sum_seen / sess_count\n",
    "train_precision5_avg_bought = train_precision5_sum_bought / sess_count\n",
    "train_precision1_avg_seen = train_precision1_sum_seen / sess_count\n",
    "train_precision1_avg_bought = train_precision1_sum_bought / sess_count\n",
    "\n",
    "train_recall5_avg_seen = train_recall5_sum_seen / sess_count\n",
    "train_recall5_avg_bought = train_recall5_sum_bought / sess_count\n",
    "train_recall1_avg_seen = train_recall1_sum_seen / sess_count\n",
    "train_recall1_avg_bought = train_recall1_sum_bought / sess_count"
   ]
  },
  {
   "cell_type": "code",
   "execution_count": 20,
   "metadata": {},
   "outputs": [],
   "source": [
    "with open('recommendations.answer1.txt', 'w') as fp:\n",
    "    fp.write(\n",
    "        f'{round(train_recall1_avg_seen, 2)} '\n",
    "        f'{round(train_precision1_avg_seen, 2)} '\n",
    "        f'{round(train_recall5_avg_seen, 2)} '\n",
    "        f'{round(train_precision5_avg_seen, 2)}'\n",
    "    )"
   ]
  },
  {
   "cell_type": "code",
   "execution_count": 25,
   "metadata": {},
   "outputs": [],
   "source": [
    "with open('recommendations.answer3.txt', 'w') as fp:\n",
    "    fp.write(\n",
    "        f'{round(train_recall1_avg_bought, 2)} '\n",
    "        f'{round(train_precision1_avg_bought, 2)} '\n",
    "        f'{round(train_recall5_avg_bought, 2)} '\n",
    "        f'{round(train_precision5_avg_bought, 2)}'\n",
    "    )"
   ]
  },
  {
   "cell_type": "code",
   "execution_count": 26,
   "metadata": {},
   "outputs": [],
   "source": [
    "test_precision5_sum_seen = 0\n",
    "test_precision5_sum_bought = 0\n",
    "test_precision1_sum_seen = 0\n",
    "test_precision1_sum_bought = 0\n",
    "\n",
    "test_recall5_sum_seen = 0\n",
    "test_recall5_sum_bought = 0\n",
    "test_recall1_sum_seen = 0\n",
    "test_recall1_sum_bought = 0\n",
    "\n",
    "sess_count = 0\n",
    "for seen, bought in test_data:\n",
    "    if not bought:\n",
    "        continue\n",
    "\n",
    "    sess_count += 1\n",
    "\n",
    "    rec_seen = sorted(unique(seen), key=seen_key, reverse=True)\n",
    "    rec_bought = sorted(unique(seen), key=bought_key, reverse=True)\n",
    "\n",
    "    test_precision5_sum_seen += precision(rec_seen, bought, 5)\n",
    "    test_precision1_sum_seen += precision(rec_seen, bought, 1)\n",
    "    test_precision5_sum_bought += precision(rec_bought, bought, 5)\n",
    "    test_precision1_sum_bought += precision(rec_bought, bought, 1)\n",
    "\n",
    "    test_recall5_sum_seen += recall(rec_seen, bought, 5)\n",
    "    test_recall1_sum_seen += recall(rec_seen, bought, 1)\n",
    "    test_recall5_sum_bought += recall(rec_bought, bought, 5)\n",
    "    test_recall1_sum_bought += recall(rec_bought, bought, 1)\n",
    "\n",
    "test_precision5_avg_seen = test_precision5_sum_seen / sess_count\n",
    "test_precision5_avg_bought = test_precision5_sum_bought / sess_count\n",
    "test_precision1_avg_seen = test_precision1_sum_seen / sess_count\n",
    "test_precision1_avg_bought = test_precision1_sum_bought / sess_count\n",
    "\n",
    "test_recall5_avg_seen = test_recall5_sum_seen / sess_count\n",
    "test_recall5_avg_bought = test_recall5_sum_bought / sess_count\n",
    "test_recall1_avg_seen = test_recall1_sum_seen / sess_count\n",
    "test_recall1_avg_bought = test_recall1_sum_bought / sess_count"
   ]
  },
  {
   "cell_type": "code",
   "execution_count": 27,
   "metadata": {},
   "outputs": [],
   "source": [
    "with open('recommendations.answer2.txt', 'w') as fp:\n",
    "    fp.write(\n",
    "        f'{round(test_recall1_avg_seen, 2)} '\n",
    "        f'{round(test_precision1_avg_seen, 2)} '\n",
    "        f'{round(test_recall5_avg_seen, 2)} '\n",
    "        f'{round(test_precision5_avg_seen, 2)}'\n",
    "    )"
   ]
  },
  {
   "cell_type": "code",
   "execution_count": 28,
   "metadata": {},
   "outputs": [],
   "source": [
    "with open('recommendations.answer4.txt', 'w') as fp:\n",
    "    fp.write(\n",
    "        f'{round(test_recall1_avg_bought, 2)} '\n",
    "        f'{round(test_precision1_avg_bought, 2)} '\n",
    "        f'{round(test_recall5_avg_bought, 2)} '\n",
    "        f'{round(test_precision5_avg_bought, 2)}'\n",
    "    )"
   ]
  },
  {
   "cell_type": "code",
   "execution_count": null,
   "metadata": {},
   "outputs": [],
   "source": []
  }
 ],
 "metadata": {
  "interpreter": {
   "hash": "1a0ca82fe72f7b6dcc59f88ce1601f3112cb58c024b4d57901a90c4fbc3fa1c5"
  },
  "kernelspec": {
   "display_name": "Python 3.8.8 64-bit ('base': conda)",
   "language": "python",
   "name": "python3"
  },
  "language_info": {
   "codemirror_mode": {
    "name": "ipython",
    "version": 3
   },
   "file_extension": ".py",
   "mimetype": "text/x-python",
   "name": "python",
   "nbconvert_exporter": "python",
   "pygments_lexer": "ipython3",
   "version": "3.8.8"
  },
  "orig_nbformat": 4
 },
 "nbformat": 4,
 "nbformat_minor": 2
}
